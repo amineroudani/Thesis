{
 "cells": [
  {
   "cell_type": "code",
   "execution_count": 1,
   "id": "6170be92-9533-426b-898b-89ecba2be886",
   "metadata": {},
   "outputs": [],
   "source": [
    "from ThesisFunctions import *"
   ]
  },
  {
   "cell_type": "code",
   "execution_count": 6,
   "id": "5e9c20ff-b1a0-4975-a093-579323de1d53",
   "metadata": {},
   "outputs": [],
   "source": [
    "A, b, x1, x2, x3 = sp.symbols('A b, x1, x2, x3')\n",
    "\n",
    "SSE_poly = (A*b**0 - x1)**2 + (A*b**1 - x2)**2 + (A*b**2 - x3)**2\n",
    "\n",
    "partial_A = sp.diff(SSE_poly, A)\n",
    "partial_b = sp.diff(SSE_poly, b)\n",
    "\n",
    "B = sp.groebner([partial_A, partial_b], A, b, order='lex')"
   ]
  },
  {
   "cell_type": "code",
   "execution_count": 9,
   "id": "ac4e749b-921b-403d-ba18-74d6ff752f3b",
   "metadata": {},
   "outputs": [
    {
     "name": "stdout",
     "output_type": "stream",
     "text": [
      "b**6*x2*x3 + b**5*(2*x1*x3 + x2**2 - x3**2) + b**4*(3*x1*x2 - x2*x3) + b**3*(2*x1**2 - 2*x3**2) + b**2*(x1*x2 - 3*x2*x3) + b*(x1**2 - 2*x1*x3 - x2**2) - x1*x2\n"
     ]
    }
   ],
   "source": [
    "print(B[1])"
   ]
  },
  {
   "cell_type": "code",
   "execution_count": null,
   "id": "0a42600e-c671-444a-bb4d-ecbc12130e17",
   "metadata": {},
   "outputs": [],
   "source": []
  }
 ],
 "metadata": {
  "kernelspec": {
   "display_name": "Python 3 (ipykernel)",
   "language": "python",
   "name": "python3"
  },
  "language_info": {
   "codemirror_mode": {
    "name": "ipython",
    "version": 3
   },
   "file_extension": ".py",
   "mimetype": "text/x-python",
   "name": "python",
   "nbconvert_exporter": "python",
   "pygments_lexer": "ipython3",
   "version": "3.10.13"
  }
 },
 "nbformat": 4,
 "nbformat_minor": 5
}
