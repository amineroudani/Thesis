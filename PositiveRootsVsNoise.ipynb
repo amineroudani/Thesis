{
 "cells": [
  {
   "cell_type": "code",
   "execution_count": 1,
   "id": "fc69d7a9-0107-4fca-9bc3-9009fd1d815f",
   "metadata": {},
   "outputs": [],
   "source": [
    "from ThesisFunctions import *"
   ]
  },
  {
   "cell_type": "code",
   "execution_count": 3,
   "id": "1563703c-5948-4835-86df-9b9611d34187",
   "metadata": {},
   "outputs": [
    {
     "name": "stdout",
     "output_type": "stream",
     "text": [
      "Noise Level=0.1: Mean of positive roots = 1.0, Std Dev = 0.0\n",
      "Noise Level=0.5: Mean of positive roots = 1.0, Std Dev = 0.0\n",
      "Noise Level=1: Mean of positive roots = 1.1, Std Dev = 0.3\n",
      "Noise Level=1.5: Mean of positive roots = 1.25, Std Dev = 0.4330127018922193\n",
      "Noise Level=3: Mean of positive roots = 1.65, Std Dev = 0.4769696007084728\n",
      "Noise Level=5: Mean of positive roots = 1.5, Std Dev = 0.5916079783099616\n",
      "Noise Level=10: Mean of positive roots = 1.95, Std Dev = 0.739932429347437\n",
      "Noise Level=20: Mean of positive roots = 1.85, Std Dev = 0.7921489758877431\n",
      "Noise Level=30: Mean of positive roots = 2.15, Std Dev = 0.5722761571129799\n",
      "Noise Level=40: Mean of positive roots = 2.25, Std Dev = 0.7664854858377946\n",
      "Noise Level=70: Mean of positive roots = 1.75, Std Dev = 0.6224949798994366\n",
      "Noise Level=100: Mean of positive roots = 1.9, Std Dev = 0.7000000000000001\n",
      "Noise Level=200: Mean of positive roots = 2.1, Std Dev = 0.7000000000000001\n",
      "Noise Level=300: Mean of positive roots = 1.85, Std Dev = 0.792148975887743\n",
      "Noise Level=400: Mean of positive roots = 2.0, Std Dev = 0.8944271909999159\n",
      "Noise Level=500: Mean of positive roots = 2.0, Std Dev = 0.7071067811865476\n"
     ]
    }
   ],
   "source": [
    "# Define symbolic variables\n",
    "x0, b = sp.symbols('x0 b')\n",
    "\n",
    "# Set the number of data points for each generated dataset\n",
    "num_datapoints = 6\n",
    "\n",
    "# Define a range of noise levels to test\n",
    "noise_levels = [0.1, 0.5, 1, 1.5, 3, 5, 10, 20, 30, 40, 70, 100, 200, 300, 400, 500]\n",
    "#noise_levels=[0.1]\n",
    "# Initialize an empty list to store the mean and standard deviation of positive roots for each noise level\n",
    "positive_roots_stats = []\n",
    "\n",
    "# Loop over each noise level\n",
    "for level in noise_levels:\n",
    "    num_positive_roots_list = []\n",
    "    # Perform 20 iterations for each noise level to get a distribution of positive roots\n",
    "    for _ in range(20):\n",
    "        # Generate data with current noise level\n",
    "        data = data_gen(num_datapoints, level, 2, 1)\n",
    "        x_i = list(data['Data'].values)\n",
    "        t_i = list(data['Time'].values)\n",
    "       \n",
    "        # Construct the Sum of Squared Errors (SSE) polynomial from the model\n",
    "        SSE_poly = sum([(x - x0 * b ** t)**2 for x, t in zip(x_i, t_i)])\n",
    "    \n",
    "        # Compute the partial derivatives of SSE with respect to x0 and b\n",
    "        partial_x0 = sp.diff(SSE_poly, x0)\n",
    "        partial_b = sp.diff(SSE_poly, b)\n",
    "    \n",
    "        # Compute the Groebner basis for the system of equations given by the partial derivatives\n",
    "        G = sp.groebner([partial_x0, partial_b], x0, b, order='lex')\n",
    "\n",
    "        # Count the number of positive roots of the second polynomial in the Groebner basis\n",
    "        num_positive_roots = count_positive_roots(G[1])\n",
    "        num_positive_roots_list.append(num_positive_roots)\n",
    "    \n",
    "    # Calculate the mean and standard deviation of positive roots for the current noise level\n",
    "    mean_positive_roots = np.mean(num_positive_roots_list)\n",
    "    std_positive_roots = np.std(num_positive_roots_list)\n",
    "    positive_roots_stats.append((level, mean_positive_roots, std_positive_roots))\n",
    "    \n",
    "    print(f'Noise Level={level}: Mean of positive roots = {mean_positive_roots}, Std Dev = {std_positive_roots}')\n",
    "\n",
    "# Convert the results into a pandas DataFrame for easier analysis and visualization\n",
    "df_results = pd.DataFrame(positive_roots_stats, columns=['Noise_Level', 'Mean_Positive_Roots', 'Std_Dev_Positive_Roots'])\n",
    "\n",
    "# df_results can then be used for further analysis, plotting, or exported as CVS\n"
   ]
  },
  {
   "cell_type": "code",
   "execution_count": 4,
   "id": "31755e75-2dce-42b8-aa5a-fa7940a91dd4",
   "metadata": {},
   "outputs": [
    {
     "name": "stdout",
     "output_type": "stream",
     "text": [
      "    Noise_Level  Mean_Positive_Roots  Std_Dev_Positive_Roots\n",
      "0           0.1                 1.00                0.000000\n",
      "1           0.5                 1.00                0.000000\n",
      "2           1.0                 1.10                0.300000\n",
      "3           1.5                 1.25                0.433013\n",
      "4           3.0                 1.65                0.476970\n",
      "5           5.0                 1.50                0.591608\n",
      "6          10.0                 1.95                0.739932\n",
      "7          20.0                 1.85                0.792149\n",
      "8          30.0                 2.15                0.572276\n",
      "9          40.0                 2.25                0.766485\n",
      "10         70.0                 1.75                0.622495\n",
      "11        100.0                 1.90                0.700000\n",
      "12        200.0                 2.10                0.700000\n",
      "13        300.0                 1.85                0.792149\n",
      "14        400.0                 2.00                0.894427\n",
      "15        500.0                 2.00                0.707107\n"
     ]
    }
   ],
   "source": [
    "print(df_results)"
   ]
  },
  {
   "cell_type": "code",
   "execution_count": null,
   "id": "6be76cb3-0a41-4827-a20d-f872cc14cf25",
   "metadata": {},
   "outputs": [],
   "source": []
  }
 ],
 "metadata": {
  "kernelspec": {
   "display_name": "Python 3 (ipykernel)",
   "language": "python",
   "name": "python3"
  },
  "language_info": {
   "codemirror_mode": {
    "name": "ipython",
    "version": 3
   },
   "file_extension": ".py",
   "mimetype": "text/x-python",
   "name": "python",
   "nbconvert_exporter": "python",
   "pygments_lexer": "ipython3",
   "version": "3.10.13"
  }
 },
 "nbformat": 4,
 "nbformat_minor": 5
}
