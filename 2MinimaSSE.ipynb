{
 "cells": [
  {
   "cell_type": "code",
   "execution_count": 5,
   "id": "c08c864d-e4c2-4763-b420-9f51d8539eaf",
   "metadata": {},
   "outputs": [],
   "source": [
    "from ThesisFunctions import *"
   ]
  },
  {
   "cell_type": "code",
   "execution_count": 6,
   "id": "75dd8749-4cfb-4692-985d-5ff10e3cb7d8",
   "metadata": {},
   "outputs": [],
   "source": [
    "#Testing is low noise EVER has double root..."
   ]
  },
  {
   "cell_type": "code",
   "execution_count": 27,
   "id": "8c1cdbc4-d1dc-4951-8de0-7288116bfc3d",
   "metadata": {},
   "outputs": [
    {
     "name": "stdout",
     "output_type": "stream",
     "text": [
      "[14600.115165730533]\n",
      "[14600.115165730533, 30302.880200467964]\n",
      "[14600.115165730533, 30302.880200467964, 83500.25098604414]\n",
      "[14600.115165730533, 30302.880200467964, 83500.25098604414, 6071.14961577045]\n",
      "[14600.115165730533, 30302.880200467964, 83500.25098604414, 6071.14961577045, 7716.790707525417]\n",
      "[14600.115165730533, 30302.880200467964, 83500.25098604414, 6071.14961577045, 7716.790707525417, 0.6741196633265645]\n",
      "[14600.115165730533, 30302.880200467964, 83500.25098604414, 6071.14961577045, 7716.790707525417, 0.6741196633265645, 0.0008342021246789955]\n",
      "[14600.115165730533, 30302.880200467964, 83500.25098604414, 6071.14961577045, 7716.790707525417, 0.6741196633265645, 0.0008342021246789955, 95088.29117434239]\n",
      "[14600.115165730533, 30302.880200467964, 83500.25098604414, 6071.14961577045, 7716.790707525417, 0.6741196633265645, 0.0008342021246789955, 95088.29117434239, 3.54702933691442e-11]\n",
      "[14600.115165730533, 30302.880200467964, 83500.25098604414, 6071.14961577045, 7716.790707525417, 0.6741196633265645, 0.0008342021246789955, 95088.29117434239, 3.54702933691442e-11, 32.21168862350328]\n",
      "[14600.115165730533, 30302.880200467964, 83500.25098604414, 6071.14961577045, 7716.790707525417, 0.6741196633265645, 0.0008342021246789955, 95088.29117434239, 3.54702933691442e-11, 32.21168862350328]\n",
      "   Mean_Difference  Max_Difference  Min_Difference  Std_Dev_Difference\n",
      "0      1639.529906     3537.785234    1.870398e+01         1449.990465\n",
      "1     23731.236449    95088.291174    3.547029e-11        34073.737489\n"
     ]
    }
   ],
   "source": [
    "# Initialize a list to store differences.\n",
    "trials_differences = []  # Store the differences for each trial for the current num_datapoints.\n",
    "\n",
    "while len(trials_differences) < 10:  # Perform 100 trials.\n",
    "    # Generate data with the specified number of datapoints and noise level.\n",
    "    data = data_gen(6, 10, 1, 1)\n",
    "    x_i = np.array(data['Data'].values)\n",
    "    t_i = np.array(data['Time'].values)\n",
    "    \n",
    "    # Calculate the Groebner basis.\n",
    "    B = groeb(x_i, t_i)\n",
    "    \n",
    "    # Find positive real roots.\n",
    "    positive_roots_b = roots_symbolic(B[1])\n",
    "        \n",
    "    # Determine (x0, alpha) pairs.\n",
    "    params = find_x0_alpha_pairs(B, positive_roots_b)\n",
    "\n",
    "    # Evaluate the Hessian to check for minima.\n",
    "    maxima_checks = evaluate_hessian_at_extremas(params, x_i, t_i)\n",
    "\n",
    "    # Count the number of minima.\n",
    "    num_minimas = sum(1 for _, is_minima in maxima_checks if is_minima)\n",
    "\n",
    "    # Compute the difference in loss if there are exactly 2 minima.\n",
    "    if num_minimas == 2:\n",
    "        differences = abs(sse(params[1], data) - sse(params[2], data))\n",
    "        trials_differences.append(float(differences))\n",
    "        print(trials_differences)\n",
    "\n",
    "\n",
    "# If there were any trials with exactly 2 minima, calculate statistics.\n",
    "if trials_differences:\n",
    "    avg_diff = np.mean(trials_differences)\n",
    "    max_diff = np.max(trials_differences)\n",
    "    min_diff = np.min(trials_differences)\n",
    "    print(trials_differences)\n",
    "    std_dev_diff = np.std(trials_differences)\n",
    "    \n",
    "    difference_list.append({\n",
    "        'Mean_Difference': avg_diff,\n",
    "        'Max_Difference': max_diff,\n",
    "        'Min_Difference': min_diff,\n",
    "        'Std_Dev_Difference': std_dev_diff\n",
    "    })\n",
    "\n",
    "\n",
    "# Convert differences to a DataFrame for better visualization.\n",
    "differences_df = pd.DataFrame(difference_list)\n",
    "\n",
    "# Print the DataFrame to see the results.\n",
    "print(differences_df)\n"
   ]
  },
  {
   "cell_type": "code",
   "execution_count": null,
   "id": "03e74905-b6ed-49b0-bc2c-b809abe7deee",
   "metadata": {},
   "outputs": [],
   "source": []
  }
 ],
 "metadata": {
  "kernelspec": {
   "display_name": "Python 3 (ipykernel)",
   "language": "python",
   "name": "python3"
  },
  "language_info": {
   "codemirror_mode": {
    "name": "ipython",
    "version": 3
   },
   "file_extension": ".py",
   "mimetype": "text/x-python",
   "name": "python",
   "nbconvert_exporter": "python",
   "pygments_lexer": "ipython3",
   "version": "3.10.13"
  }
 },
 "nbformat": 4,
 "nbformat_minor": 5
}
