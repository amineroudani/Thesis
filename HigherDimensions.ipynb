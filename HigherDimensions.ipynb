{
 "cells": [
  {
   "cell_type": "code",
   "execution_count": 1,
   "id": "9c84bae4-d2f4-405a-9adb-f6b00a9a736a",
   "metadata": {},
   "outputs": [
    {
     "ename": "PolynomialError",
     "evalue": "exp(0.204081632653061*alpha1) contains an element of the set of generators.",
     "output_type": "error",
     "traceback": [
      "\u001b[0;31m---------------------------------------------------------------------------\u001b[0m",
      "\u001b[0;31mKeyError\u001b[0m                                  Traceback (most recent call last)",
      "File \u001b[0;32m/opt/homebrew/lib/python3.10/site-packages/sympy/polys/polyutils.py:211\u001b[0m, in \u001b[0;36m_parallel_dict_from_expr_if_gens\u001b[0;34m(exprs, opt)\u001b[0m\n\u001b[1;32m    209\u001b[0m         base, exp \u001b[38;5;241m=\u001b[39m decompose_power_rat(factor)\n\u001b[0;32m--> 211\u001b[0m     monom[\u001b[43mindices\u001b[49m\u001b[43m[\u001b[49m\u001b[43mbase\u001b[49m\u001b[43m]\u001b[49m] \u001b[38;5;241m=\u001b[39m exp\n\u001b[1;32m    212\u001b[0m \u001b[38;5;28;01mexcept\u001b[39;00m \u001b[38;5;167;01mKeyError\u001b[39;00m:\n",
      "\u001b[0;31mKeyError\u001b[0m: exp(0.204081632653061*alpha1)",
      "\nDuring handling of the above exception, another exception occurred:\n",
      "\u001b[0;31mPolynomialError\u001b[0m                           Traceback (most recent call last)",
      "Cell \u001b[0;32mIn[1], line 54\u001b[0m\n\u001b[1;32m     52\u001b[0m \u001b[38;5;66;03m# Example usage\u001b[39;00m\n\u001b[1;32m     53\u001b[0m data \u001b[38;5;241m=\u001b[39m generate_data(num_points\u001b[38;5;241m=\u001b[39m\u001b[38;5;241m50\u001b[39m, A1\u001b[38;5;241m=\u001b[39m\u001b[38;5;241m2\u001b[39m, alpha1\u001b[38;5;241m=\u001b[39m\u001b[38;5;241m0.5\u001b[39m, A2\u001b[38;5;241m=\u001b[39m\u001b[38;5;241m3\u001b[39m, alpha2\u001b[38;5;241m=\u001b[39m\u001b[38;5;241m0.2\u001b[39m)\n\u001b[0;32m---> 54\u001b[0m \u001b[43mfit_and_plot\u001b[49m\u001b[43m(\u001b[49m\u001b[43mdata\u001b[49m\u001b[43m)\u001b[49m\n",
      "Cell \u001b[0;32mIn[1], line 35\u001b[0m, in \u001b[0;36mfit_and_plot\u001b[0;34m(data)\u001b[0m\n\u001b[1;32m     32\u001b[0m x_i \u001b[38;5;241m=\u001b[39m data[\u001b[38;5;124m'\u001b[39m\u001b[38;5;124mData\u001b[39m\u001b[38;5;124m'\u001b[39m]\u001b[38;5;241m.\u001b[39mvalues\n\u001b[1;32m     33\u001b[0m t_i \u001b[38;5;241m=\u001b[39m data[\u001b[38;5;124m'\u001b[39m\u001b[38;5;124mTime\u001b[39m\u001b[38;5;124m'\u001b[39m]\u001b[38;5;241m.\u001b[39mvalues\n\u001b[0;32m---> 35\u001b[0m G \u001b[38;5;241m=\u001b[39m \u001b[43mderive_groebner_basis\u001b[49m\u001b[43m(\u001b[49m\u001b[43mx_i\u001b[49m\u001b[43m,\u001b[49m\u001b[43m \u001b[49m\u001b[43mt_i\u001b[49m\u001b[43m)\u001b[49m\n\u001b[1;32m     36\u001b[0m solutions \u001b[38;5;241m=\u001b[39m solve_groebner_basis(G)\n\u001b[1;32m     38\u001b[0m \u001b[38;5;28;01mfor\u001b[39;00m solution \u001b[38;5;129;01min\u001b[39;00m solutions:\n",
      "Cell \u001b[0;32mIn[1], line 22\u001b[0m, in \u001b[0;36mderive_groebner_basis\u001b[0;34m(x_i, t_i)\u001b[0m\n\u001b[1;32m     19\u001b[0m     model_eq \u001b[38;5;241m=\u001b[39m A1 \u001b[38;5;241m*\u001b[39m exp(alpha1 \u001b[38;5;241m*\u001b[39m t) \u001b[38;5;241m+\u001b[39m A2 \u001b[38;5;241m*\u001b[39m exp(alpha2 \u001b[38;5;241m*\u001b[39m t) \u001b[38;5;241m-\u001b[39m x\n\u001b[1;32m     20\u001b[0m     equations\u001b[38;5;241m.\u001b[39mappend(model_eq)\n\u001b[0;32m---> 22\u001b[0m G \u001b[38;5;241m=\u001b[39m \u001b[43mgroebner\u001b[49m\u001b[43m(\u001b[49m\u001b[43mequations\u001b[49m\u001b[43m,\u001b[49m\u001b[43m \u001b[49m\u001b[43mA1\u001b[49m\u001b[43m,\u001b[49m\u001b[43m \u001b[49m\u001b[43mA2\u001b[49m\u001b[43m,\u001b[49m\u001b[43m \u001b[49m\u001b[43malpha1\u001b[49m\u001b[43m,\u001b[49m\u001b[43m \u001b[49m\u001b[43malpha2\u001b[49m\u001b[43m,\u001b[49m\u001b[43m \u001b[49m\u001b[43morder\u001b[49m\u001b[38;5;241;43m=\u001b[39;49m\u001b[38;5;124;43m'\u001b[39;49m\u001b[38;5;124;43mlex\u001b[39;49m\u001b[38;5;124;43m'\u001b[39;49m\u001b[43m)\u001b[49m\n\u001b[1;32m     23\u001b[0m \u001b[38;5;28;01mreturn\u001b[39;00m G\n",
      "File \u001b[0;32m/opt/homebrew/lib/python3.10/site-packages/sympy/polys/polytools.py:7015\u001b[0m, in \u001b[0;36mgroebner\u001b[0;34m(F, *gens, **args)\u001b[0m\n\u001b[1;32m   6964\u001b[0m \u001b[38;5;129m@public\u001b[39m\n\u001b[1;32m   6965\u001b[0m \u001b[38;5;28;01mdef\u001b[39;00m \u001b[38;5;21mgroebner\u001b[39m(F, \u001b[38;5;241m*\u001b[39mgens, \u001b[38;5;241m*\u001b[39m\u001b[38;5;241m*\u001b[39margs):\n\u001b[1;32m   6966\u001b[0m \u001b[38;5;250m    \u001b[39m\u001b[38;5;124;03m\"\"\"\u001b[39;00m\n\u001b[1;32m   6967\u001b[0m \u001b[38;5;124;03m    Computes the reduced Groebner basis for a set of polynomials.\u001b[39;00m\n\u001b[1;32m   6968\u001b[0m \n\u001b[0;32m   (...)\u001b[0m\n\u001b[1;32m   7013\u001b[0m \n\u001b[1;32m   7014\u001b[0m \u001b[38;5;124;03m    \"\"\"\u001b[39;00m\n\u001b[0;32m-> 7015\u001b[0m     \u001b[38;5;28;01mreturn\u001b[39;00m \u001b[43mGroebnerBasis\u001b[49m\u001b[43m(\u001b[49m\u001b[43mF\u001b[49m\u001b[43m,\u001b[49m\u001b[43m \u001b[49m\u001b[38;5;241;43m*\u001b[39;49m\u001b[43mgens\u001b[49m\u001b[43m,\u001b[49m\u001b[43m \u001b[49m\u001b[38;5;241;43m*\u001b[39;49m\u001b[38;5;241;43m*\u001b[39;49m\u001b[43margs\u001b[49m\u001b[43m)\u001b[49m\n",
      "File \u001b[0;32m/opt/homebrew/lib/python3.10/site-packages/sympy/polys/polytools.py:7045\u001b[0m, in \u001b[0;36mGroebnerBasis.__new__\u001b[0;34m(cls, F, *gens, **args)\u001b[0m\n\u001b[1;32m   7042\u001b[0m options\u001b[38;5;241m.\u001b[39mallowed_flags(args, [\u001b[38;5;124m'\u001b[39m\u001b[38;5;124mpolys\u001b[39m\u001b[38;5;124m'\u001b[39m, \u001b[38;5;124m'\u001b[39m\u001b[38;5;124mmethod\u001b[39m\u001b[38;5;124m'\u001b[39m])\n\u001b[1;32m   7044\u001b[0m \u001b[38;5;28;01mtry\u001b[39;00m:\n\u001b[0;32m-> 7045\u001b[0m     polys, opt \u001b[38;5;241m=\u001b[39m \u001b[43mparallel_poly_from_expr\u001b[49m\u001b[43m(\u001b[49m\u001b[43mF\u001b[49m\u001b[43m,\u001b[49m\u001b[43m \u001b[49m\u001b[38;5;241;43m*\u001b[39;49m\u001b[43mgens\u001b[49m\u001b[43m,\u001b[49m\u001b[43m \u001b[49m\u001b[38;5;241;43m*\u001b[39;49m\u001b[38;5;241;43m*\u001b[39;49m\u001b[43margs\u001b[49m\u001b[43m)\u001b[49m\n\u001b[1;32m   7046\u001b[0m \u001b[38;5;28;01mexcept\u001b[39;00m PolificationFailed \u001b[38;5;28;01mas\u001b[39;00m exc:\n\u001b[1;32m   7047\u001b[0m     \u001b[38;5;28;01mraise\u001b[39;00m ComputationFailed(\u001b[38;5;124m'\u001b[39m\u001b[38;5;124mgroebner\u001b[39m\u001b[38;5;124m'\u001b[39m, \u001b[38;5;28mlen\u001b[39m(F), exc)\n",
      "File \u001b[0;32m/opt/homebrew/lib/python3.10/site-packages/sympy/polys/polytools.py:4504\u001b[0m, in \u001b[0;36mparallel_poly_from_expr\u001b[0;34m(exprs, *gens, **args)\u001b[0m\n\u001b[1;32m   4502\u001b[0m \u001b[38;5;250m\u001b[39m\u001b[38;5;124;03m\"\"\"Construct polynomials from expressions. \"\"\"\u001b[39;00m\n\u001b[1;32m   4503\u001b[0m opt \u001b[38;5;241m=\u001b[39m options\u001b[38;5;241m.\u001b[39mbuild_options(gens, args)\n\u001b[0;32m-> 4504\u001b[0m \u001b[38;5;28;01mreturn\u001b[39;00m \u001b[43m_parallel_poly_from_expr\u001b[49m\u001b[43m(\u001b[49m\u001b[43mexprs\u001b[49m\u001b[43m,\u001b[49m\u001b[43m \u001b[49m\u001b[43mopt\u001b[49m\u001b[43m)\u001b[49m\n",
      "File \u001b[0;32m/opt/homebrew/lib/python3.10/site-packages/sympy/polys/polytools.py:4555\u001b[0m, in \u001b[0;36m_parallel_poly_from_expr\u001b[0;34m(exprs, opt)\u001b[0m\n\u001b[1;32m   4552\u001b[0m     \u001b[38;5;28;01mfor\u001b[39;00m i \u001b[38;5;129;01min\u001b[39;00m _polys:\n\u001b[1;32m   4553\u001b[0m         exprs[i] \u001b[38;5;241m=\u001b[39m exprs[i]\u001b[38;5;241m.\u001b[39mas_expr()\n\u001b[0;32m-> 4555\u001b[0m reps, opt \u001b[38;5;241m=\u001b[39m \u001b[43m_parallel_dict_from_expr\u001b[49m\u001b[43m(\u001b[49m\u001b[43mexprs\u001b[49m\u001b[43m,\u001b[49m\u001b[43m \u001b[49m\u001b[43mopt\u001b[49m\u001b[43m)\u001b[49m\n\u001b[1;32m   4556\u001b[0m \u001b[38;5;28;01mif\u001b[39;00m \u001b[38;5;129;01mnot\u001b[39;00m opt\u001b[38;5;241m.\u001b[39mgens:\n\u001b[1;32m   4557\u001b[0m     \u001b[38;5;28;01mraise\u001b[39;00m PolificationFailed(opt, origs, exprs, \u001b[38;5;28;01mTrue\u001b[39;00m)\n",
      "File \u001b[0;32m/opt/homebrew/lib/python3.10/site-packages/sympy/polys/polyutils.py:332\u001b[0m, in \u001b[0;36m_parallel_dict_from_expr\u001b[0;34m(exprs, opt)\u001b[0m\n\u001b[1;32m    329\u001b[0m     \u001b[38;5;28;01mraise\u001b[39;00m PolynomialError(\u001b[38;5;124m'\u001b[39m\u001b[38;5;124mnon-commutative expressions are not supported\u001b[39m\u001b[38;5;124m'\u001b[39m)\n\u001b[1;32m    331\u001b[0m \u001b[38;5;28;01mif\u001b[39;00m opt\u001b[38;5;241m.\u001b[39mgens:\n\u001b[0;32m--> 332\u001b[0m     reps, gens \u001b[38;5;241m=\u001b[39m \u001b[43m_parallel_dict_from_expr_if_gens\u001b[49m\u001b[43m(\u001b[49m\u001b[43mexprs\u001b[49m\u001b[43m,\u001b[49m\u001b[43m \u001b[49m\u001b[43mopt\u001b[49m\u001b[43m)\u001b[49m\n\u001b[1;32m    333\u001b[0m \u001b[38;5;28;01melse\u001b[39;00m:\n\u001b[1;32m    334\u001b[0m     reps, gens \u001b[38;5;241m=\u001b[39m _parallel_dict_from_expr_no_gens(exprs, opt)\n",
      "File \u001b[0;32m/opt/homebrew/lib/python3.10/site-packages/sympy/polys/polyutils.py:216\u001b[0m, in \u001b[0;36m_parallel_dict_from_expr_if_gens\u001b[0;34m(exprs, opt)\u001b[0m\n\u001b[1;32m    214\u001b[0m                 coeff\u001b[38;5;241m.\u001b[39mappend(factor)\n\u001b[1;32m    215\u001b[0m             \u001b[38;5;28;01melse\u001b[39;00m:\n\u001b[0;32m--> 216\u001b[0m                 \u001b[38;5;28;01mraise\u001b[39;00m PolynomialError(\u001b[38;5;124m\"\u001b[39m\u001b[38;5;132;01m%s\u001b[39;00m\u001b[38;5;124m contains an element of \u001b[39m\u001b[38;5;124m\"\u001b[39m\n\u001b[1;32m    217\u001b[0m                                       \u001b[38;5;124m\"\u001b[39m\u001b[38;5;124mthe set of generators.\u001b[39m\u001b[38;5;124m\"\u001b[39m \u001b[38;5;241m%\u001b[39m factor)\n\u001b[1;32m    219\u001b[0m monom \u001b[38;5;241m=\u001b[39m \u001b[38;5;28mtuple\u001b[39m(monom)\n\u001b[1;32m    221\u001b[0m \u001b[38;5;28;01mif\u001b[39;00m monom \u001b[38;5;129;01min\u001b[39;00m poly:\n",
      "\u001b[0;31mPolynomialError\u001b[0m: exp(0.204081632653061*alpha1) contains an element of the set of generators."
     ]
    }
   ],
   "source": [
    "import numpy as np\n",
    "import pandas as pd\n",
    "import sympy as sp\n",
    "import matplotlib.pyplot as plt\n",
    "from sympy import symbols, diff, exp, solve, groebner\n",
    "\n",
    "# Function to generate synthetic data without noise for the higher-dimensional case.\n",
    "def generate_data(num_points=100, A1=1, alpha1=1, A2=1, alpha2=2):\n",
    "    t = np.linspace(0, 10, num_points)\n",
    "    data = A1 * np.exp(alpha1 * t) + A2 * np.exp(alpha2 * t)\n",
    "    return pd.DataFrame({'Time': t, 'Data': data})\n",
    "\n",
    "# Function to derive Groebner basis for the system.\n",
    "def derive_groebner_basis(x_i, t_i):\n",
    "    A1, A2, alpha1, alpha2 = symbols('A1 A2 alpha1 alpha2')\n",
    "    equations = []\n",
    "    \n",
    "    for x, t in zip(x_i, t_i):\n",
    "        model_eq = A1 * exp(alpha1 * t) + A2 * exp(alpha2 * t) - x\n",
    "        equations.append(model_eq)\n",
    "    \n",
    "    G = groebner(equations, A1, A2, alpha1, alpha2, order='lex')\n",
    "    return G\n",
    "\n",
    "# Function to solve the Groebner basis for the parameters.\n",
    "def solve_groebner_basis(G):\n",
    "    solutions = solve([g for g in G], symbols('A1 A2 alpha1 alpha2'))\n",
    "    return solutions\n",
    "\n",
    "# Function to fit the model and plot both the data and the fitted curve.\n",
    "def fit_and_plot(data):\n",
    "    x_i = data['Data'].values\n",
    "    t_i = data['Time'].values\n",
    "    \n",
    "    G = derive_groebner_basis(x_i, t_i)\n",
    "    solutions = solve_groebner_basis(G)\n",
    "    \n",
    "    for solution in solutions:\n",
    "        print(\"Solution:\", solution)\n",
    "        A1, A2, alpha1, alpha2 = solution\n",
    "        fitted_data = A1 * np.exp(alpha1 * data['Time']) + A2 * np.exp(alpha2 * data['Time'])\n",
    "        \n",
    "        plt.figure(figsize=(10, 6))\n",
    "        plt.scatter(data['Time'], data['Data'], color='blue', label='Original Data')\n",
    "        plt.plot(data['Time'], fitted_data, color='red', label='Fitted Model')\n",
    "        plt.xlabel('Time')\n",
    "        plt.ylabel('Data')\n",
    "        plt.title('Data vs. Fitted Model')\n",
    "        plt.legend()\n",
    "        plt.show()\n",
    "\n",
    "# Example usage\n",
    "data = generate_data(num_points=50, A1=2, alpha1=0.5, A2=3, alpha2=0.2)\n",
    "fit_and_plot(data)\n"
   ]
  },
  {
   "cell_type": "code",
   "execution_count": null,
   "id": "a8a77e69-831d-42dd-8cff-56a496d86057",
   "metadata": {},
   "outputs": [],
   "source": []
  }
 ],
 "metadata": {
  "kernelspec": {
   "display_name": "Python 3 (ipykernel)",
   "language": "python",
   "name": "python3"
  },
  "language_info": {
   "codemirror_mode": {
    "name": "ipython",
    "version": 3
   },
   "file_extension": ".py",
   "mimetype": "text/x-python",
   "name": "python",
   "nbconvert_exporter": "python",
   "pygments_lexer": "ipython3",
   "version": "3.10.13"
  }
 },
 "nbformat": 4,
 "nbformat_minor": 5
}
