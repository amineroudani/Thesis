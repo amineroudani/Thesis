{
 "cells": [
  {
   "cell_type": "code",
   "execution_count": 2,
   "id": "096856d7-fe11-4034-beac-a0efefaeacc2",
   "metadata": {},
   "outputs": [],
   "source": [
    "from ThesisFunctions import *"
   ]
  },
  {
   "cell_type": "code",
   "execution_count": 14,
   "id": "2152ac07-6a3d-47a1-876d-9056bc4f922e",
   "metadata": {},
   "outputs": [
    {
     "name": "stdout",
     "output_type": "stream",
     "text": [
      "Number of datapoints vs Number of minimas\n",
      "   Number_of_Datapoints  Average_Number_of_Minimas\n",
      "0                     3                       0.60\n",
      "1                     4                       0.95\n",
      "2                     5                       1.20\n",
      "3                     6                       1.25\n",
      "4                     7                       1.25\n"
     ]
    }
   ],
   "source": [
    "print('Number of datapoints vs Number of minimas')\n",
    "noise_level = 10\n",
    "num_datapoints_list = [3, 4, 5, 6, 7]\n",
    "\n",
    "# Initialize a list to store the results.\n",
    "results_list = []\n",
    "\n",
    "for num_datapoints in num_datapoints_list:\n",
    "    trials_minimas = []  # Store the number of minima found in each trial for current num_datapoints.\n",
    "    \n",
    "    for _ in range(20):  # Perform 10 trials to average out the effects of randomness.\n",
    "        # Generate data with specified number of datapoints and noise level.\n",
    "        data = data_gen(num_datapoints, noise_level, 1, 1)\n",
    "        x_i = np.array(data['Data'].values)\n",
    "        t_i = np.array(data['Time'].values)\n",
    "        \n",
    "        # Calculate the Groebner basis.\n",
    "        B = groeb(x_i, t_i)\n",
    "                            \n",
    "        # Find positive real roots.\n",
    "        positive_roots_b = roots_symbolic(B[1])\n",
    "            \n",
    "        # Determine (x0, alpha) pairs.\n",
    "        params = find_x0_alpha_pairs(B, positive_roots_b)\n",
    "    \n",
    "        # Evaluate the Hessian to check for minima.\n",
    "        maxima_checks = evaluate_hessian_at_extremas(params, x_i, t_i)\n",
    "    \n",
    "        # Count the number of minima.\n",
    "        num_minimas = sum(1 for _, is_true in maxima_checks if is_true)\n",
    "        trials_minimas.append(num_minimas)\n",
    "    \n",
    "    # Calculate the average number of minima for the current number of data points.\n",
    "    avg_minimas = np.mean(trials_minimas)\n",
    "    results_list.append({'Number_of_Datapoints': num_datapoints, 'Average_Number_of_Minimas': avg_minimas})\n",
    "\n",
    "# Convert results to a DataFrame for better visualization.\n",
    "results_df = pd.DataFrame(results_list)\n",
    "\n",
    "# Print the DataFrame to see the results.\n",
    "print(results_df)\n"
   ]
  },
  {
   "cell_type": "code",
   "execution_count": null,
   "id": "da2e46c1-3905-4821-973c-e3f4f17b57ee",
   "metadata": {},
   "outputs": [],
   "source": []
  }
 ],
 "metadata": {
  "kernelspec": {
   "display_name": "Python 3 (ipykernel)",
   "language": "python",
   "name": "python3"
  },
  "language_info": {
   "codemirror_mode": {
    "name": "ipython",
    "version": 3
   },
   "file_extension": ".py",
   "mimetype": "text/x-python",
   "name": "python",
   "nbconvert_exporter": "python",
   "pygments_lexer": "ipython3",
   "version": "3.10.13"
  }
 },
 "nbformat": 4,
 "nbformat_minor": 5
}
