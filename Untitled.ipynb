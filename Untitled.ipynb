{
 "cells": [
  {
   "cell_type": "code",
   "execution_count": 1,
   "id": "c08c864d-e4c2-4763-b420-9f51d8539eaf",
   "metadata": {},
   "outputs": [],
   "source": [
    "from ThesisFunctions import *"
   ]
  },
  {
   "cell_type": "code",
   "execution_count": null,
   "id": "75dd8749-4cfb-4692-985d-5ff10e3cb7d8",
   "metadata": {},
   "outputs": [],
   "source": [
    "#Testing is low noise EVER has double root..."
   ]
  },
  {
   "cell_type": "code",
   "execution_count": 3,
   "id": "03e74905-b6ed-49b0-bc2c-b809abe7deee",
   "metadata": {},
   "outputs": [
    {
     "name": "stdout",
     "output_type": "stream",
     "text": [
      "   Number_of_Datapoints  Average_Number_of_Minimas\n",
      "0                     6                        1.0\n"
     ]
    }
   ],
   "source": [
    "noise_level = 0.1\n",
    "#num_datapoints_list = [2, 3, 4, 5, 6, 7, 8, 9 , 10, 20]\n",
    "num_datapoints_list = [6]\n",
    "\n",
    "# Initialize a list to store the results.\n",
    "results_list = []\n",
    "\n",
    "for num_datapoints in num_datapoints_list:\n",
    "    trials_minimas = []  # Store the number of minima found in each trial for current num_datapoints.\n",
    "    \n",
    "    for _ in range(1000):  # Perform 10 trials to average out the effects of randomness.\n",
    "        # Generate data with specified number of datapoints and noise level.\n",
    "        data = data_gen(num_datapoints, noise_level, 1, 1)\n",
    "        x_i = np.array(data['Data'].values)\n",
    "        t_i = np.array(data['Time'].values)\n",
    "        #print(data)\n",
    "        \n",
    "        # Calculate the Groebner basis.\n",
    "        B = groeb(x_i, t_i)\n",
    "                            \n",
    "        # Find positive real roots.\n",
    "        positive_roots_b = roots_symbolic(B[1])\n",
    "            \n",
    "        # Determine (x0, alpha) pairs.\n",
    "        params = find_x0_alpha_pairs(B, positive_roots_b)\n",
    "    \n",
    "        # Evaluate the Hessian to check for minima.\n",
    "        maxima_checks = evaluate_hessian_at_extremas(params, x_i, t_i)\n",
    "    \n",
    "        # Count the number of minima.\n",
    "        num_minimas = sum(1 for _, is_true in maxima_checks if is_true)\n",
    "        trials_minimas.append(num_minimas)\n",
    "    \n",
    "    # Calculate the average number of minima for the current number of data points.\n",
    "    avg_minimas = np.mean(trials_minimas)\n",
    "    results_list.append({'Number_of_Datapoints': num_datapoints, 'Average_Number_of_Minimas': avg_minimas})\n",
    "\n",
    "# Convert results to a DataFrame for better visualization.\n",
    "results_df = pd.DataFrame(results_list)\n",
    "\n",
    "# Print the DataFrame to see the results.\n",
    "print(results_df)\n"
   ]
  },
  {
   "cell_type": "code",
   "execution_count": null,
   "id": "cbf06980-02d4-42b7-9581-f2a5d54d0481",
   "metadata": {},
   "outputs": [],
   "source": []
  },
  {
   "cell_type": "code",
   "execution_count": null,
   "id": "1e5ee484-22f4-43e4-afa7-65d5bcd7d9fd",
   "metadata": {},
   "outputs": [],
   "source": []
  },
  {
   "cell_type": "code",
   "execution_count": null,
   "id": "fe5c972d-fc14-48f8-bd05-bcc7e7fc579f",
   "metadata": {},
   "outputs": [],
   "source": []
  },
  {
   "cell_type": "code",
   "execution_count": null,
   "id": "c983557c-1295-48a1-81e7-c780e60a45de",
   "metadata": {},
   "outputs": [],
   "source": []
  }
 ],
 "metadata": {
  "kernelspec": {
   "display_name": "Python 3 (ipykernel)",
   "language": "python",
   "name": "python3"
  },
  "language_info": {
   "codemirror_mode": {
    "name": "ipython",
    "version": 3
   },
   "file_extension": ".py",
   "mimetype": "text/x-python",
   "name": "python",
   "nbconvert_exporter": "python",
   "pygments_lexer": "ipython3",
   "version": "3.10.13"
  }
 },
 "nbformat": 4,
 "nbformat_minor": 5
}
