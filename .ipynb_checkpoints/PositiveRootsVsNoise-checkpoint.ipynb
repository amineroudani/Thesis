{
 "cells": [
  {
   "cell_type": "code",
   "execution_count": 1,
   "id": "fc69d7a9-0107-4fca-9bc3-9009fd1d815f",
   "metadata": {},
   "outputs": [],
   "source": [
    "from ThesisFunctions import *"
   ]
  },
  {
   "cell_type": "code",
   "execution_count": 5,
   "id": "1563703c-5948-4835-86df-9b9611d34187",
   "metadata": {},
   "outputs": [
    {
     "name": "stdout",
     "output_type": "stream",
     "text": [
      "Noise Level=0.1: Mean of positive roots = 1.0, Std Dev = 0.0\n",
      "Noise Level=0.5: Mean of positive roots = 1.02, Std Dev = 0.13999999999999999\n",
      "Noise Level=1: Mean of positive roots = 1.15, Std Dev = 0.35707142142714254\n",
      "Noise Level=1.5: Mean of positive roots = 1.25, Std Dev = 0.4330127018922193\n",
      "Noise Level=3: Mean of positive roots = 1.4, Std Dev = 0.48989794855663565\n",
      "Noise Level=5: Mean of positive roots = 1.46, Std Dev = 0.49839743177508444\n",
      "Noise Level=10: Mean of positive roots = 1.7, Std Dev = 0.7141428428542851\n",
      "Noise Level=20: Mean of positive roots = 1.75, Std Dev = 0.6689544080129826\n",
      "Noise Level=30: Mean of positive roots = 1.89, Std Dev = 0.7986864215698174\n",
      "Noise Level=40: Mean of positive roots = 1.9, Std Dev = 0.714142842854285\n",
      "Noise Level=70: Mean of positive roots = 2.01, Std Dev = 0.714072825417688\n",
      "Noise Level=100: Mean of positive roots = 2.1, Std Dev = 0.6855654600401043\n",
      "Noise Level=200: Mean of positive roots = 2.1, Std Dev = 0.8185352771872451\n",
      "Noise Level=300: Mean of positive roots = 1.99, Std Dev = 0.7140728254176881\n",
      "Noise Level=400: Mean of positive roots = 1.93, Std Dev = 0.7517313349861106\n",
      "Noise Level=500: Mean of positive roots = 2.01, Std Dev = 0.8306021911842034\n"
     ]
    }
   ],
   "source": [
    "import pandas as pd\n",
    "import numpy as np\n",
    "import sympy as sp\n",
    "\n",
    "# Assuming data_gen and count_positive_roots functions are defined elsewhere\n",
    "\n",
    "x0, b = sp.symbols('x0 b')\n",
    "num_datapoints = 6\n",
    "noise_levels = [0.1, 0.5, 1, 1.5, 3, 5, 10, 20, 30, 40, 70, 100, 200, 300, 400, 500]\n",
    "positive_roots_stats = []\n",
    "global_max_positive_roots = 0  # Initialize tracker for the global max number of positive roots\n",
    "\n",
    "for level in noise_levels:\n",
    "    num_positive_roots_list = []\n",
    "    for _ in range(100):\n",
    "        data = data_gen(num_datapoints, level, 2, 1)\n",
    "        x_i = list(data['Data'].values)\n",
    "        t_i = list(data['Time'].values)\n",
    "        SSE_poly = sum([(x - x0 * b ** t)**2 for x, t in zip(x_i, t_i)])\n",
    "        partial_x0 = sp.diff(SSE_poly, x0)\n",
    "        partial_b = sp.diff(SSE_poly, b)\n",
    "        G = sp.groebner([partial_x0, partial_b], x0, b, order='lex')\n",
    "        num_positive_roots = count_positive_roots(G[1])\n",
    "        num_positive_roots_list.append(num_positive_roots)\n",
    "        \n",
    "        # Update global max if a new max is found\n",
    "        if num_positive_roots > global_max_positive_roots:\n",
    "            global_max_positive_roots = num_positive_roots\n",
    "    \n",
    "    mean_positive_roots = np.mean(num_positive_roots_list)\n",
    "    std_positive_roots = np.std(num_positive_roots_list)\n",
    "    positive_roots_stats.append((level, mean_positive_roots, std_positive_roots))\n",
    "\n",
    "df_results = pd.DataFrame(positive_roots_stats, columns=['Noise_Level', 'Mean_Positive_Roots', 'Std_Dev_Positive_Roots'])\n",
    "\n",
    "# Add a new column for the max number of positive roots\n",
    "df_results['Max_Positive_Roots'] = global_max_positive_roots\n",
    "\n",
    "# Now df_results includes the global max number of positive roots in each row\n"
   ]
  },
  {
   "cell_type": "code",
   "execution_count": 4,
   "id": "31755e75-2dce-42b8-aa5a-fa7940a91dd4",
   "metadata": {},
   "outputs": [
    {
     "name": "stdout",
     "output_type": "stream",
     "text": [
      "    Noise_Level  Mean_Positive_Roots  Std_Dev_Positive_Roots\n",
      "0           0.1                 1.00                0.000000\n",
      "1           0.5                 1.00                0.000000\n",
      "2           1.0                 1.10                0.300000\n",
      "3           1.5                 1.25                0.433013\n",
      "4           3.0                 1.65                0.476970\n",
      "5           5.0                 1.50                0.591608\n",
      "6          10.0                 1.95                0.739932\n",
      "7          20.0                 1.85                0.792149\n",
      "8          30.0                 2.15                0.572276\n",
      "9          40.0                 2.25                0.766485\n",
      "10         70.0                 1.75                0.622495\n",
      "11        100.0                 1.90                0.700000\n",
      "12        200.0                 2.10                0.700000\n",
      "13        300.0                 1.85                0.792149\n",
      "14        400.0                 2.00                0.894427\n",
      "15        500.0                 2.00                0.707107\n"
     ]
    }
   ],
   "source": [
    "print(df_results)"
   ]
  },
  {
   "cell_type": "code",
   "execution_count": null,
   "id": "6be76cb3-0a41-4827-a20d-f872cc14cf25",
   "metadata": {},
   "outputs": [],
   "source": []
  }
 ],
 "metadata": {
  "kernelspec": {
   "display_name": "Python 3 (ipykernel)",
   "language": "python",
   "name": "python3"
  },
  "language_info": {
   "codemirror_mode": {
    "name": "ipython",
    "version": 3
   },
   "file_extension": ".py",
   "mimetype": "text/x-python",
   "name": "python",
   "nbconvert_exporter": "python",
   "pygments_lexer": "ipython3",
   "version": "3.10.13"
  }
 },
 "nbformat": 4,
 "nbformat_minor": 5
}
