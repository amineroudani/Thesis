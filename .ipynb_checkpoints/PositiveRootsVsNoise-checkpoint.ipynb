{
 "cells": [
  {
   "cell_type": "code",
   "execution_count": 2,
   "id": "fc69d7a9-0107-4fca-9bc3-9009fd1d815f",
   "metadata": {},
   "outputs": [],
   "source": [
    "from ThesisFunctions import *"
   ]
  },
  {
   "cell_type": "code",
   "execution_count": 7,
   "id": "1563703c-5948-4835-86df-9b9611d34187",
   "metadata": {},
   "outputs": [
    {
     "name": "stdout",
     "output_type": "stream",
     "text": [
      "Noise Level=0: Mean of positive roots = 1.0, Std Dev = 0.0, Max = 1\n",
      "Noise Level=0.1: Mean of positive roots = 1.0, Std Dev = 0.0, Max = 1\n",
      "Noise Level=0.5: Mean of positive roots = 1.03, Std Dev = 0.17058722109231983, Max = 2\n",
      "Noise Level=1: Mean of positive roots = 1.16, Std Dev = 0.36660605559646725, Max = 2\n",
      "Noise Level=1.5: Mean of positive roots = 1.23, Std Dev = 0.4208325082500163, Max = 2\n",
      "Noise Level=3: Mean of positive roots = 1.39, Std Dev = 0.5078385570237849, Max = 3\n",
      "Noise Level=5: Mean of positive roots = 1.6, Std Dev = 0.5830951894845301, Max = 3\n",
      "Noise Level=10: Mean of positive roots = 1.66, Std Dev = 0.5695612346359257, Max = 3\n",
      "Noise Level=20: Mean of positive roots = 1.76, Std Dev = 0.6945502141674135, Max = 3\n",
      "Noise Level=30: Mean of positive roots = 1.79, Std Dev = 0.7251896303726358, Max = 3\n",
      "Noise Level=40: Mean of positive roots = 1.94, Std Dev = 0.6902173570694958, Max = 4\n",
      "Noise Level=70: Mean of positive roots = 1.87, Std Dev = 0.7022107945624305, Max = 3\n",
      "Noise Level=100: Mean of positive roots = 2.03, Std Dev = 0.7410128204019144, Max = 4\n",
      "Noise Level=200: Mean of positive roots = 1.92, Std Dev = 0.7304792947099871, Max = 4\n",
      "Noise Level=300: Mean of positive roots = 2.16, Std Dev = 0.796492310069595, Max = 4\n",
      "Noise Level=400: Mean of positive roots = 2.12, Std Dev = 0.7909487973314077, Max = 4\n",
      "Noise Level=500: Mean of positive roots = 2.09, Std Dev = 0.7758221445666525, Max = 4\n"
     ]
    }
   ],
   "source": [
    "# Define symbolic variables\n",
    "x0, b = sp.symbols('x0 b')\n",
    "\n",
    "# Set the number of data points for each generated dataset\n",
    "num_datapoints = 6\n",
    "\n",
    "# Define a range of noise levels to test\n",
    "noise_levels = [0, 0.1, 0.5, 1, 1.5, 3, 5, 10, 20, 30, 40, 70, 100, 200, 300, 400, 500]\n",
    "#noise_levels=[0.1]\n",
    "# Initialize an empty list to store the mean and standard deviation of positive roots for each noise level\n",
    "positive_roots_stats = []\n",
    "\n",
    "# Loop over each noise level\n",
    "for level in noise_levels:\n",
    "    num_positive_roots_list = []\n",
    "    # Perform 20 iterations for each noise level to get a distribution of positive roots\n",
    "    for _ in range(100):\n",
    "        # Generate data with current noise level\n",
    "        data = data_gen(num_datapoints, level, 2, 1)\n",
    "        x_i = list(data['Data'].values)\n",
    "        t_i = list(data['Time'].values)\n",
    "       \n",
    "        # Construct the Sum of Squared Errors (SSE) polynomial from the model\n",
    "        SSE_poly = sum([(x - x0 * b ** t)**2 for x, t in zip(x_i, t_i)])\n",
    "    \n",
    "        # Compute the partial derivatives of SSE with respect to x0 and b\n",
    "        partial_x0 = sp.diff(SSE_poly, x0)\n",
    "        partial_b = sp.diff(SSE_poly, b)\n",
    "    \n",
    "        # Compute the Groebner basis for the system of equations given by the partial derivatives\n",
    "        G = sp.groebner([partial_x0, partial_b], x0, b, order='lex')\n",
    "\n",
    "        # Count the number of positive roots of the second polynomial in the Groebner basis\n",
    "        num_positive_roots = count_positive_roots(G[1])\n",
    "        \n",
    "        num_positive_roots_list.append(num_positive_roots)\n",
    "    \n",
    "    # Calculate the mean and standard deviation of positive roots for the current noise level\n",
    "    max_positive_roots = np.max(num_positive_roots_list)\n",
    "    mean_positive_roots = np.mean(num_positive_roots_list)\n",
    "    std_positive_roots = np.std(num_positive_roots_list)\n",
    "    positive_roots_stats.append((level, mean_positive_roots, std_positive_roots, max_positive_roots))\n",
    "    \n",
    "    print(f'Noise Level={level}: Mean of positive roots = {mean_positive_roots}, Std Dev = {std_positive_roots}, Max = {max_positive_roots}')\n",
    "\n",
    "# Convert the results into a pandas DataFrame for easier analysis and visualization\n",
    "df_results = pd.DataFrame(positive_roots_stats, columns=['Noise_Level', 'Mean_Positive_Roots', 'Std_Dev_Positive_Roots', 'max_positive_roots'])\n",
    "\n",
    "# df_results can then be used for further analysis, plotting, or exported as CVS\n"
   ]
  },
  {
   "cell_type": "code",
   "execution_count": 9,
   "id": "31755e75-2dce-42b8-aa5a-fa7940a91dd4",
   "metadata": {},
   "outputs": [
    {
     "name": "stdout",
     "output_type": "stream",
     "text": [
      "    Noise_Level  Mean_Positive_Roots  Std_Dev_Positive_Roots  \\\n",
      "0           0.0                 1.00                0.000000   \n",
      "1           0.1                 1.00                0.000000   \n",
      "2           0.5                 1.03                0.170587   \n",
      "3           1.0                 1.16                0.366606   \n",
      "4           1.5                 1.23                0.420833   \n",
      "5           3.0                 1.39                0.507839   \n",
      "6           5.0                 1.60                0.583095   \n",
      "7          10.0                 1.66                0.569561   \n",
      "8          20.0                 1.76                0.694550   \n",
      "9          30.0                 1.79                0.725190   \n",
      "10         40.0                 1.94                0.690217   \n",
      "11         70.0                 1.87                0.702211   \n",
      "12        100.0                 2.03                0.741013   \n",
      "13        200.0                 1.92                0.730479   \n",
      "14        300.0                 2.16                0.796492   \n",
      "15        400.0                 2.12                0.790949   \n",
      "16        500.0                 2.09                0.775822   \n",
      "\n",
      "    max_positive_roots  \n",
      "0                    1  \n",
      "1                    1  \n",
      "2                    2  \n",
      "3                    2  \n",
      "4                    2  \n",
      "5                    3  \n",
      "6                    3  \n",
      "7                    3  \n",
      "8                    3  \n",
      "9                    3  \n",
      "10                   4  \n",
      "11                   3  \n",
      "12                   4  \n",
      "13                   4  \n",
      "14                   4  \n",
      "15                   4  \n",
      "16                   4  \n"
     ]
    }
   ],
   "source": [
    "print(df_results)"
   ]
  },
  {
   "cell_type": "code",
   "execution_count": null,
   "id": "6be76cb3-0a41-4827-a20d-f872cc14cf25",
   "metadata": {},
   "outputs": [],
   "source": []
  }
 ],
 "metadata": {
  "kernelspec": {
   "display_name": "Python 3 (ipykernel)",
   "language": "python",
   "name": "python3"
  },
  "language_info": {
   "codemirror_mode": {
    "name": "ipython",
    "version": 3
   },
   "file_extension": ".py",
   "mimetype": "text/x-python",
   "name": "python",
   "nbconvert_exporter": "python",
   "pygments_lexer": "ipython3",
   "version": "3.10.13"
  }
 },
 "nbformat": 4,
 "nbformat_minor": 5
}
