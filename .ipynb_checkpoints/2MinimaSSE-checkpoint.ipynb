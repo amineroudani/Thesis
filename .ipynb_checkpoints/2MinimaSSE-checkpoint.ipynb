{
 "cells": [
  {
   "cell_type": "code",
   "execution_count": 28,
   "id": "c08c864d-e4c2-4763-b420-9f51d8539eaf",
   "metadata": {},
   "outputs": [],
   "source": [
    "from ThesisFunctions import *"
   ]
  },
  {
   "cell_type": "code",
   "execution_count": 30,
   "id": "8c1cdbc4-d1dc-4951-8de0-7288116bfc3d",
   "metadata": {},
   "outputs": [
    {
     "name": "stdout",
     "output_type": "stream",
     "text": [
      "[0.5532636653842928]\n",
      "[0.5532636653842928, 16265.622851001444]\n",
      "[0.5532636653842928, 16265.622851001444, 80215.933653246]\n",
      "[0.5532636653842928, 16265.622851001444, 80215.933653246, 8061.099807269764]\n"
     ]
    },
    {
     "ename": "KeyboardInterrupt",
     "evalue": "",
     "output_type": "error",
     "traceback": [
      "\u001b[0;31m---------------------------------------------------------------------------\u001b[0m",
      "\u001b[0;31mKeyError\u001b[0m                                  Traceback (most recent call last)",
      "File \u001b[0;32m/opt/homebrew/lib/python3.10/site-packages/sympy/polys/rootoftools.py:470\u001b[0m, in \u001b[0;36mComplexRootOf._get_complexes\u001b[0;34m(cls, factors, use_cache)\u001b[0m\n\u001b[1;32m    469\u001b[0m     \u001b[38;5;28;01mraise\u001b[39;00m \u001b[38;5;167;01mKeyError\u001b[39;00m\n\u001b[0;32m--> 470\u001b[0m c \u001b[38;5;241m=\u001b[39m \u001b[43m_complexes_cache\u001b[49m\u001b[43m[\u001b[49m\u001b[43mcurrentfactor\u001b[49m\u001b[43m]\u001b[49m\n\u001b[1;32m    471\u001b[0m complexes\u001b[38;5;241m.\u001b[39mextend([(i, currentfactor, k) \u001b[38;5;28;01mfor\u001b[39;00m i \u001b[38;5;129;01min\u001b[39;00m c])\n",
      "File \u001b[0;32m/opt/homebrew/lib/python3.10/site-packages/sympy/polys/rootoftools.py:90\u001b[0m, in \u001b[0;36m_pure_key_dict.__getitem__\u001b[0;34m(self, k)\u001b[0m\n\u001b[1;32m     89\u001b[0m     k \u001b[38;5;241m=\u001b[39m PurePoly(k, expand\u001b[38;5;241m=\u001b[39m\u001b[38;5;28;01mFalse\u001b[39;00m)\n\u001b[0;32m---> 90\u001b[0m \u001b[38;5;28;01mreturn\u001b[39;00m \u001b[38;5;28;43mself\u001b[39;49m\u001b[38;5;241;43m.\u001b[39;49m\u001b[43m_dict\u001b[49m\u001b[43m[\u001b[49m\u001b[43mk\u001b[49m\u001b[43m]\u001b[49m\n",
      "\u001b[0;31mKeyError\u001b[0m: PurePoly(9384*x**13 + 10255*x**12 + 6333*x**11 + 21041*x**10 - 5777*x**9 + 30927*x**8 - 17149*x**7 + 40813*x**6 - 28521*x**5 + 50699*x**4 - 39893*x**3 - 189*x**2 - 4345*x - 180, x, domain='ZZ')",
      "\nDuring handling of the above exception, another exception occurred:\n",
      "\u001b[0;31mKeyboardInterrupt\u001b[0m                         Traceback (most recent call last)",
      "Cell \u001b[0;32mIn[30], line 17\u001b[0m\n\u001b[1;32m     14\u001b[0m B \u001b[38;5;241m=\u001b[39m groeb(x_i, t_i)\n\u001b[1;32m     16\u001b[0m \u001b[38;5;66;03m# Find positive real roots.\u001b[39;00m\n\u001b[0;32m---> 17\u001b[0m positive_roots_b \u001b[38;5;241m=\u001b[39m \u001b[43mroots_symbolic\u001b[49m\u001b[43m(\u001b[49m\u001b[43mB\u001b[49m\u001b[43m[\u001b[49m\u001b[38;5;241;43m1\u001b[39;49m\u001b[43m]\u001b[49m\u001b[43m)\u001b[49m\n\u001b[1;32m     19\u001b[0m \u001b[38;5;66;03m# Determine (x0, alpha) pairs.\u001b[39;00m\n\u001b[1;32m     20\u001b[0m params \u001b[38;5;241m=\u001b[39m find_x0_alpha_pairs(B, positive_roots_b)\n",
      "File \u001b[0;32m~/Documents/Thesis/ThesisFunctions.py:294\u001b[0m, in \u001b[0;36mroots_symbolic\u001b[0;34m(poly)\u001b[0m\n\u001b[1;32m    284\u001b[0m \u001b[38;5;250m\u001b[39m\u001b[38;5;124;03m\"\"\"\u001b[39;00m\n\u001b[1;32m    285\u001b[0m \u001b[38;5;124;03mFinds positive, real roots of a symbolic polynomial.\u001b[39;00m\n\u001b[1;32m    286\u001b[0m \n\u001b[0;32m   (...)\u001b[0m\n\u001b[1;32m    291\u001b[0m \u001b[38;5;124;03m- list of floats: Positive, real roots of the polynomial.\u001b[39;00m\n\u001b[1;32m    292\u001b[0m \u001b[38;5;124;03m\"\"\"\u001b[39;00m\n\u001b[1;32m    293\u001b[0m x \u001b[38;5;241m=\u001b[39m symbols(\u001b[38;5;124m'\u001b[39m\u001b[38;5;124mb\u001b[39m\u001b[38;5;124m'\u001b[39m)\n\u001b[0;32m--> 294\u001b[0m roots \u001b[38;5;241m=\u001b[39m \u001b[43msolve\u001b[49m\u001b[43m(\u001b[49m\u001b[43mpoly\u001b[49m\u001b[43m,\u001b[49m\u001b[43m \u001b[49m\u001b[43mx\u001b[49m\u001b[43m)\u001b[49m\n\u001b[1;32m    295\u001b[0m \u001b[38;5;28;01mreturn\u001b[39;00m [root\u001b[38;5;241m.\u001b[39mevalf() \u001b[38;5;28;01mfor\u001b[39;00m root \u001b[38;5;129;01min\u001b[39;00m roots \u001b[38;5;28;01mif\u001b[39;00m root\u001b[38;5;241m.\u001b[39mis_real \u001b[38;5;129;01mand\u001b[39;00m root \u001b[38;5;241m>\u001b[39m \u001b[38;5;241m0\u001b[39m]\n",
      "File \u001b[0;32m/opt/homebrew/lib/python3.10/site-packages/sympy/solvers/solvers.py:1145\u001b[0m, in \u001b[0;36msolve\u001b[0;34m(f, *symbols, **flags)\u001b[0m\n\u001b[1;32m   1143\u001b[0m         solution \u001b[38;5;241m=\u001b[39m _solve_undetermined(f[\u001b[38;5;241m0\u001b[39m], symbols, flags)\n\u001b[1;32m   1144\u001b[0m     \u001b[38;5;28;01mif\u001b[39;00m \u001b[38;5;129;01mnot\u001b[39;00m solution:\n\u001b[0;32m-> 1145\u001b[0m         solution \u001b[38;5;241m=\u001b[39m \u001b[43m_solve\u001b[49m\u001b[43m(\u001b[49m\u001b[43mf\u001b[49m\u001b[43m[\u001b[49m\u001b[38;5;241;43m0\u001b[39;49m\u001b[43m]\u001b[49m\u001b[43m,\u001b[49m\u001b[43m \u001b[49m\u001b[38;5;241;43m*\u001b[39;49m\u001b[43msymbols\u001b[49m\u001b[43m,\u001b[49m\u001b[43m \u001b[49m\u001b[38;5;241;43m*\u001b[39;49m\u001b[38;5;241;43m*\u001b[39;49m\u001b[43mflags\u001b[49m\u001b[43m)\u001b[49m\n\u001b[1;32m   1146\u001b[0m \u001b[38;5;28;01melse\u001b[39;00m:\n\u001b[1;32m   1147\u001b[0m     linear, solution \u001b[38;5;241m=\u001b[39m _solve_system(f, symbols, \u001b[38;5;241m*\u001b[39m\u001b[38;5;241m*\u001b[39mflags)\n",
      "File \u001b[0;32m/opt/homebrew/lib/python3.10/site-packages/sympy/solvers/solvers.py:1612\u001b[0m, in \u001b[0;36m_solve\u001b[0;34m(f, *symbols, **flags)\u001b[0m\n\u001b[1;32m   1605\u001b[0m \u001b[38;5;28;01mif\u001b[39;00m \u001b[38;5;28msum\u001b[39m(soln\u001b[38;5;241m.\u001b[39mvalues()) \u001b[38;5;241m<\u001b[39m deg:\n\u001b[1;32m   1606\u001b[0m     \u001b[38;5;66;03m# e.g. roots(32*x**5 + 400*x**4 + 2032*x**3 +\u001b[39;00m\n\u001b[1;32m   1607\u001b[0m     \u001b[38;5;66;03m#            5000*x**2 + 6250*x + 3189) -> {}\u001b[39;00m\n\u001b[1;32m   1608\u001b[0m     \u001b[38;5;66;03m# so all_roots is used and RootOf instances are\u001b[39;00m\n\u001b[1;32m   1609\u001b[0m     \u001b[38;5;66;03m# returned *unless* the system is multivariate\u001b[39;00m\n\u001b[1;32m   1610\u001b[0m     \u001b[38;5;66;03m# or high-order EX domain.\u001b[39;00m\n\u001b[1;32m   1611\u001b[0m     \u001b[38;5;28;01mtry\u001b[39;00m:\n\u001b[0;32m-> 1612\u001b[0m         soln \u001b[38;5;241m=\u001b[39m \u001b[43mpoly\u001b[49m\u001b[38;5;241;43m.\u001b[39;49m\u001b[43mall_roots\u001b[49m\u001b[43m(\u001b[49m\u001b[43m)\u001b[49m\n\u001b[1;32m   1613\u001b[0m     \u001b[38;5;28;01mexcept\u001b[39;00m \u001b[38;5;167;01mNotImplementedError\u001b[39;00m:\n\u001b[1;32m   1614\u001b[0m         \u001b[38;5;28;01mif\u001b[39;00m \u001b[38;5;129;01mnot\u001b[39;00m flags\u001b[38;5;241m.\u001b[39mget(\u001b[38;5;124m'\u001b[39m\u001b[38;5;124mincomplete\u001b[39m\u001b[38;5;124m'\u001b[39m, \u001b[38;5;28;01mTrue\u001b[39;00m):\n",
      "File \u001b[0;32m/opt/homebrew/lib/python3.10/site-packages/sympy/polys/polytools.py:3631\u001b[0m, in \u001b[0;36mPoly.all_roots\u001b[0;34m(f, multiple, radicals)\u001b[0m\n\u001b[1;32m   3613\u001b[0m \u001b[38;5;28;01mdef\u001b[39;00m \u001b[38;5;21mall_roots\u001b[39m(f, multiple\u001b[38;5;241m=\u001b[39m\u001b[38;5;28;01mTrue\u001b[39;00m, radicals\u001b[38;5;241m=\u001b[39m\u001b[38;5;28;01mTrue\u001b[39;00m):\n\u001b[1;32m   3614\u001b[0m \u001b[38;5;250m    \u001b[39m\u001b[38;5;124;03m\"\"\"\u001b[39;00m\n\u001b[1;32m   3615\u001b[0m \u001b[38;5;124;03m    Return a list of real and complex roots with multiplicities.\u001b[39;00m\n\u001b[1;32m   3616\u001b[0m \n\u001b[0;32m   (...)\u001b[0m\n\u001b[1;32m   3629\u001b[0m \n\u001b[1;32m   3630\u001b[0m \u001b[38;5;124;03m    \"\"\"\u001b[39;00m\n\u001b[0;32m-> 3631\u001b[0m     roots \u001b[38;5;241m=\u001b[39m \u001b[43msympy\u001b[49m\u001b[38;5;241;43m.\u001b[39;49m\u001b[43mpolys\u001b[49m\u001b[38;5;241;43m.\u001b[39;49m\u001b[43mrootoftools\u001b[49m\u001b[38;5;241;43m.\u001b[39;49m\u001b[43mCRootOf\u001b[49m\u001b[38;5;241;43m.\u001b[39;49m\u001b[43mall_roots\u001b[49m\u001b[43m(\u001b[49m\u001b[43mf\u001b[49m\u001b[43m,\u001b[49m\u001b[43m \u001b[49m\u001b[43mradicals\u001b[49m\u001b[38;5;241;43m=\u001b[39;49m\u001b[43mradicals\u001b[49m\u001b[43m)\u001b[49m\n\u001b[1;32m   3633\u001b[0m     \u001b[38;5;28;01mif\u001b[39;00m multiple:\n\u001b[1;32m   3634\u001b[0m         \u001b[38;5;28;01mreturn\u001b[39;00m roots\n",
      "File \u001b[0;32m/opt/homebrew/lib/python3.10/site-packages/sympy/polys/rootoftools.py:417\u001b[0m, in \u001b[0;36mComplexRootOf.all_roots\u001b[0;34m(cls, poly, radicals)\u001b[0m\n\u001b[1;32m    414\u001b[0m \u001b[38;5;129m@classmethod\u001b[39m\n\u001b[1;32m    415\u001b[0m \u001b[38;5;28;01mdef\u001b[39;00m \u001b[38;5;21mall_roots\u001b[39m(\u001b[38;5;28mcls\u001b[39m, poly, radicals\u001b[38;5;241m=\u001b[39m\u001b[38;5;28;01mTrue\u001b[39;00m):\n\u001b[1;32m    416\u001b[0m \u001b[38;5;250m    \u001b[39m\u001b[38;5;124;03m\"\"\"Get real and complex roots of a polynomial. \"\"\"\u001b[39;00m\n\u001b[0;32m--> 417\u001b[0m     \u001b[38;5;28;01mreturn\u001b[39;00m \u001b[38;5;28;43mcls\u001b[39;49m\u001b[38;5;241;43m.\u001b[39;49m\u001b[43m_get_roots\u001b[49m\u001b[43m(\u001b[49m\u001b[38;5;124;43m\"\u001b[39;49m\u001b[38;5;124;43m_all_roots\u001b[39;49m\u001b[38;5;124;43m\"\u001b[39;49m\u001b[43m,\u001b[49m\u001b[43m \u001b[49m\u001b[43mpoly\u001b[49m\u001b[43m,\u001b[49m\u001b[43m \u001b[49m\u001b[43mradicals\u001b[49m\u001b[43m)\u001b[49m\n",
      "File \u001b[0;32m/opt/homebrew/lib/python3.10/site-packages/sympy/polys/rootoftools.py:776\u001b[0m, in \u001b[0;36mComplexRootOf._get_roots\u001b[0;34m(cls, method, poly, radicals)\u001b[0m\n\u001b[1;32m    773\u001b[0m coeff, poly \u001b[38;5;241m=\u001b[39m \u001b[38;5;28mcls\u001b[39m\u001b[38;5;241m.\u001b[39m_preprocess_roots(poly)\n\u001b[1;32m    774\u001b[0m roots \u001b[38;5;241m=\u001b[39m []\n\u001b[0;32m--> 776\u001b[0m \u001b[38;5;28;01mfor\u001b[39;00m root \u001b[38;5;129;01min\u001b[39;00m \u001b[38;5;28;43mgetattr\u001b[39;49m\u001b[43m(\u001b[49m\u001b[38;5;28;43mcls\u001b[39;49m\u001b[43m,\u001b[49m\u001b[43m \u001b[49m\u001b[43mmethod\u001b[49m\u001b[43m)\u001b[49m\u001b[43m(\u001b[49m\u001b[43mpoly\u001b[49m\u001b[43m)\u001b[49m:\n\u001b[1;32m    777\u001b[0m     roots\u001b[38;5;241m.\u001b[39mappend(coeff\u001b[38;5;241m*\u001b[39m\u001b[38;5;28mcls\u001b[39m\u001b[38;5;241m.\u001b[39m_postprocess_root(root, radicals))\n\u001b[1;32m    778\u001b[0m \u001b[38;5;28;01mreturn\u001b[39;00m roots\n",
      "File \u001b[0;32m/opt/homebrew/lib/python3.10/site-packages/sympy/polys/rootoftools.py:704\u001b[0m, in \u001b[0;36mComplexRootOf._all_roots\u001b[0;34m(cls, poly, use_cache)\u001b[0m\n\u001b[1;32m    701\u001b[0m \u001b[38;5;28;01mfor\u001b[39;00m index \u001b[38;5;129;01min\u001b[39;00m \u001b[38;5;28mrange\u001b[39m(\u001b[38;5;241m0\u001b[39m, reals_count):\n\u001b[1;32m    702\u001b[0m     roots\u001b[38;5;241m.\u001b[39mappend(\u001b[38;5;28mcls\u001b[39m\u001b[38;5;241m.\u001b[39m_reals_index(reals, index))\n\u001b[0;32m--> 704\u001b[0m complexes \u001b[38;5;241m=\u001b[39m \u001b[38;5;28;43mcls\u001b[39;49m\u001b[38;5;241;43m.\u001b[39;49m\u001b[43m_get_complexes\u001b[49m\u001b[43m(\u001b[49m\u001b[43mfactors\u001b[49m\u001b[43m,\u001b[49m\u001b[43m \u001b[49m\u001b[43muse_cache\u001b[49m\u001b[38;5;241;43m=\u001b[39;49m\u001b[43muse_cache\u001b[49m\u001b[43m)\u001b[49m\n\u001b[1;32m    705\u001b[0m complexes_count \u001b[38;5;241m=\u001b[39m \u001b[38;5;28mcls\u001b[39m\u001b[38;5;241m.\u001b[39m_count_roots(complexes)\n\u001b[1;32m    707\u001b[0m \u001b[38;5;28;01mfor\u001b[39;00m index \u001b[38;5;129;01min\u001b[39;00m \u001b[38;5;28mrange\u001b[39m(\u001b[38;5;241m0\u001b[39m, complexes_count):\n",
      "File \u001b[0;32m/opt/homebrew/lib/python3.10/site-packages/sympy/polys/rootoftools.py:473\u001b[0m, in \u001b[0;36mComplexRootOf._get_complexes\u001b[0;34m(cls, factors, use_cache)\u001b[0m\n\u001b[1;32m    471\u001b[0m     complexes\u001b[38;5;241m.\u001b[39mextend([(i, currentfactor, k) \u001b[38;5;28;01mfor\u001b[39;00m i \u001b[38;5;129;01min\u001b[39;00m c])\n\u001b[1;32m    472\u001b[0m \u001b[38;5;28;01mexcept\u001b[39;00m \u001b[38;5;167;01mKeyError\u001b[39;00m:\n\u001b[0;32m--> 473\u001b[0m     complex_part \u001b[38;5;241m=\u001b[39m \u001b[38;5;28;43mcls\u001b[39;49m\u001b[38;5;241;43m.\u001b[39;49m\u001b[43m_get_complexes_sqf\u001b[49m\u001b[43m(\u001b[49m\u001b[43mcurrentfactor\u001b[49m\u001b[43m,\u001b[49m\u001b[43m \u001b[49m\u001b[43muse_cache\u001b[49m\u001b[43m)\u001b[49m\n\u001b[1;32m    474\u001b[0m     new \u001b[38;5;241m=\u001b[39m [(root, currentfactor, k) \u001b[38;5;28;01mfor\u001b[39;00m root \u001b[38;5;129;01min\u001b[39;00m complex_part]\n\u001b[1;32m    475\u001b[0m     complexes\u001b[38;5;241m.\u001b[39mextend(new)\n",
      "File \u001b[0;32m/opt/homebrew/lib/python3.10/site-packages/sympy/polys/rootoftools.py:438\u001b[0m, in \u001b[0;36mComplexRootOf._get_complexes_sqf\u001b[0;34m(cls, currentfactor, use_cache)\u001b[0m\n\u001b[1;32m    435\u001b[0m     complex_part \u001b[38;5;241m=\u001b[39m _complexes_cache[currentfactor]\n\u001b[1;32m    436\u001b[0m \u001b[38;5;28;01melse\u001b[39;00m:\n\u001b[1;32m    437\u001b[0m     _complexes_cache[currentfactor] \u001b[38;5;241m=\u001b[39m complex_part \u001b[38;5;241m=\u001b[39m \\\n\u001b[0;32m--> 438\u001b[0m         \u001b[43mdup_isolate_complex_roots_sqf\u001b[49m\u001b[43m(\u001b[49m\n\u001b[1;32m    439\u001b[0m \u001b[43m        \u001b[49m\u001b[43mcurrentfactor\u001b[49m\u001b[38;5;241;43m.\u001b[39;49m\u001b[43mrep\u001b[49m\u001b[38;5;241;43m.\u001b[39;49m\u001b[43mrep\u001b[49m\u001b[43m,\u001b[49m\u001b[43m \u001b[49m\u001b[43mcurrentfactor\u001b[49m\u001b[38;5;241;43m.\u001b[39;49m\u001b[43mrep\u001b[49m\u001b[38;5;241;43m.\u001b[39;49m\u001b[43mdom\u001b[49m\u001b[43m,\u001b[49m\u001b[43m \u001b[49m\u001b[43mblackbox\u001b[49m\u001b[38;5;241;43m=\u001b[39;49m\u001b[38;5;28;43;01mTrue\u001b[39;49;00m\u001b[43m)\u001b[49m\n\u001b[1;32m    440\u001b[0m \u001b[38;5;28;01mreturn\u001b[39;00m complex_part\n",
      "File \u001b[0;32m/opt/homebrew/lib/python3.10/site-packages/sympy/polys/rootisolation.py:1663\u001b[0m, in \u001b[0;36mdup_isolate_complex_roots_sqf\u001b[0;34m(f, K, eps, inf, sup, blackbox)\u001b[0m\n\u001b[1;32m   1660\u001b[0m N, (u, v), (s, t), I, Q, F1, F2 \u001b[38;5;241m=\u001b[39m _depth_first_select(rectangles)\n\u001b[1;32m   1662\u001b[0m \u001b[38;5;28;01mif\u001b[39;00m s \u001b[38;5;241m-\u001b[39m u \u001b[38;5;241m>\u001b[39m t \u001b[38;5;241m-\u001b[39m v:\n\u001b[0;32m-> 1663\u001b[0m     D_L, D_R \u001b[38;5;241m=\u001b[39m \u001b[43m_vertical_bisection\u001b[49m\u001b[43m(\u001b[49m\u001b[43mN\u001b[49m\u001b[43m,\u001b[49m\u001b[43m \u001b[49m\u001b[43m(\u001b[49m\u001b[43mu\u001b[49m\u001b[43m,\u001b[49m\u001b[43m \u001b[49m\u001b[43mv\u001b[49m\u001b[43m)\u001b[49m\u001b[43m,\u001b[49m\u001b[43m \u001b[49m\u001b[43m(\u001b[49m\u001b[43ms\u001b[49m\u001b[43m,\u001b[49m\u001b[43m \u001b[49m\u001b[43mt\u001b[49m\u001b[43m)\u001b[49m\u001b[43m,\u001b[49m\u001b[43m \u001b[49m\u001b[43mI\u001b[49m\u001b[43m,\u001b[49m\u001b[43m \u001b[49m\u001b[43mQ\u001b[49m\u001b[43m,\u001b[49m\u001b[43m \u001b[49m\u001b[43mF1\u001b[49m\u001b[43m,\u001b[49m\u001b[43m \u001b[49m\u001b[43mF2\u001b[49m\u001b[43m,\u001b[49m\u001b[43m \u001b[49m\u001b[43mf1\u001b[49m\u001b[43m,\u001b[49m\u001b[43m \u001b[49m\u001b[43mf2\u001b[49m\u001b[43m,\u001b[49m\u001b[43m \u001b[49m\u001b[43mF\u001b[49m\u001b[43m)\u001b[49m\n\u001b[1;32m   1665\u001b[0m     N_L, a, b, I_L, Q_L, F1_L, F2_L \u001b[38;5;241m=\u001b[39m D_L\n\u001b[1;32m   1666\u001b[0m     N_R, c, d, I_R, Q_R, F1_R, F2_R \u001b[38;5;241m=\u001b[39m D_R\n",
      "File \u001b[0;32m/opt/homebrew/lib/python3.10/site-packages/sympy/polys/rootisolation.py:1366\u001b[0m, in \u001b[0;36m_vertical_bisection\u001b[0;34m(N, a, b, I, Q, F1, F2, f1, f2, F)\u001b[0m\n\u001b[1;32m   1363\u001b[0m f1V \u001b[38;5;241m=\u001b[39m dmp_eval_in(f1, x, \u001b[38;5;241m0\u001b[39m, \u001b[38;5;241m1\u001b[39m, F)\n\u001b[1;32m   1364\u001b[0m f2V \u001b[38;5;241m=\u001b[39m dmp_eval_in(f2, x, \u001b[38;5;241m0\u001b[39m, \u001b[38;5;241m1\u001b[39m, F)\n\u001b[0;32m-> 1366\u001b[0m I_V \u001b[38;5;241m=\u001b[39m \u001b[43mdup_isolate_real_roots_list\u001b[49m\u001b[43m(\u001b[49m\u001b[43m[\u001b[49m\u001b[43mf1V\u001b[49m\u001b[43m,\u001b[49m\u001b[43m \u001b[49m\u001b[43mf2V\u001b[49m\u001b[43m]\u001b[49m\u001b[43m,\u001b[49m\u001b[43m \u001b[49m\u001b[43mF\u001b[49m\u001b[43m,\u001b[49m\u001b[43m \u001b[49m\u001b[43minf\u001b[49m\u001b[38;5;241;43m=\u001b[39;49m\u001b[43mv\u001b[49m\u001b[43m,\u001b[49m\u001b[43m \u001b[49m\u001b[43msup\u001b[49m\u001b[38;5;241;43m=\u001b[39;49m\u001b[43mt\u001b[49m\u001b[43m,\u001b[49m\u001b[43m \u001b[49m\u001b[43mfast\u001b[49m\u001b[38;5;241;43m=\u001b[39;49m\u001b[38;5;28;43;01mTrue\u001b[39;49;00m\u001b[43m,\u001b[49m\u001b[43m \u001b[49m\u001b[43mstrict\u001b[49m\u001b[38;5;241;43m=\u001b[39;49m\u001b[38;5;28;43;01mTrue\u001b[39;49;00m\u001b[43m,\u001b[49m\u001b[43m \u001b[49m\u001b[43mbasis\u001b[49m\u001b[38;5;241;43m=\u001b[39;49m\u001b[38;5;28;43;01mTrue\u001b[39;49;00m\u001b[43m)\u001b[49m\n\u001b[1;32m   1368\u001b[0m I_L1_L, I_L1_R \u001b[38;5;241m=\u001b[39m [], []\n\u001b[1;32m   1369\u001b[0m I_L2_L, I_L2_R \u001b[38;5;241m=\u001b[39m I_V, I_L2\n",
      "File \u001b[0;32m/opt/homebrew/lib/python3.10/site-packages/sympy/polys/rootisolation.py:667\u001b[0m, in \u001b[0;36mdup_isolate_real_roots_list\u001b[0;34m(polys, K, eps, inf, sup, strict, basis, fast)\u001b[0m\n\u001b[1;32m    664\u001b[0m \u001b[38;5;28;01mif\u001b[39;00m zeros \u001b[38;5;129;01mand\u001b[39;00m j \u001b[38;5;241m>\u001b[39m \u001b[38;5;241m0\u001b[39m:\n\u001b[1;32m    665\u001b[0m     zero_indices[i] \u001b[38;5;241m=\u001b[39m j\n\u001b[0;32m--> 667\u001b[0m \u001b[38;5;28;01mfor\u001b[39;00m f, k \u001b[38;5;129;01min\u001b[39;00m \u001b[43mdup_factor_list\u001b[49m\u001b[43m(\u001b[49m\u001b[43mp\u001b[49m\u001b[43m,\u001b[49m\u001b[43m \u001b[49m\u001b[43mK\u001b[49m\u001b[43m)\u001b[49m[\u001b[38;5;241m1\u001b[39m]:\n\u001b[1;32m    668\u001b[0m     f \u001b[38;5;241m=\u001b[39m \u001b[38;5;28mtuple\u001b[39m(f)\n\u001b[1;32m    670\u001b[0m     \u001b[38;5;28;01mif\u001b[39;00m f \u001b[38;5;129;01mnot\u001b[39;00m \u001b[38;5;129;01min\u001b[39;00m factors_dict:\n",
      "File \u001b[0;32m/opt/homebrew/lib/python3.10/site-packages/sympy/polys/factortools.py:1342\u001b[0m, in \u001b[0;36mdup_factor_list\u001b[0;34m(f, K0)\u001b[0m\n\u001b[1;32m   1339\u001b[0m     K \u001b[38;5;241m=\u001b[39m K0\n\u001b[1;32m   1341\u001b[0m \u001b[38;5;28;01mif\u001b[39;00m K\u001b[38;5;241m.\u001b[39mis_ZZ:\n\u001b[0;32m-> 1342\u001b[0m     coeff, factors \u001b[38;5;241m=\u001b[39m \u001b[43mdup_zz_factor\u001b[49m\u001b[43m(\u001b[49m\u001b[43mf\u001b[49m\u001b[43m,\u001b[49m\u001b[43m \u001b[49m\u001b[43mK\u001b[49m\u001b[43m)\u001b[49m\n\u001b[1;32m   1343\u001b[0m \u001b[38;5;28;01melif\u001b[39;00m K\u001b[38;5;241m.\u001b[39mis_Poly:\n\u001b[1;32m   1344\u001b[0m     f, u \u001b[38;5;241m=\u001b[39m dmp_inject(f, \u001b[38;5;241m0\u001b[39m, K)\n",
      "File \u001b[0;32m/opt/homebrew/lib/python3.10/site-packages/sympy/polys/factortools.py:688\u001b[0m, in \u001b[0;36mdup_zz_factor\u001b[0;34m(f, K)\u001b[0m\n\u001b[1;32m    685\u001b[0m     H \u001b[38;5;241m=\u001b[39m dup_zz_cyclotomic_factor(g, K)\n\u001b[1;32m    687\u001b[0m \u001b[38;5;28;01mif\u001b[39;00m H \u001b[38;5;129;01mis\u001b[39;00m \u001b[38;5;28;01mNone\u001b[39;00m:\n\u001b[0;32m--> 688\u001b[0m     H \u001b[38;5;241m=\u001b[39m \u001b[43mdup_zz_zassenhaus\u001b[49m\u001b[43m(\u001b[49m\u001b[43mg\u001b[49m\u001b[43m,\u001b[49m\u001b[43m \u001b[49m\u001b[43mK\u001b[49m\u001b[43m)\u001b[49m\n\u001b[1;32m    690\u001b[0m factors \u001b[38;5;241m=\u001b[39m dup_trial_division(f, H, K)\n\u001b[1;32m    691\u001b[0m \u001b[38;5;28;01mreturn\u001b[39;00m cont, factors\n",
      "File \u001b[0;32m/opt/homebrew/lib/python3.10/site-packages/sympy/polys/factortools.py:354\u001b[0m, in \u001b[0;36mdup_zz_zassenhaus\u001b[0;34m(f, K)\u001b[0m\n\u001b[1;32m    350\u001b[0m l \u001b[38;5;241m=\u001b[39m \u001b[38;5;28mint\u001b[39m(_ceil(_log(\u001b[38;5;241m2\u001b[39m\u001b[38;5;241m*\u001b[39mB \u001b[38;5;241m+\u001b[39m \u001b[38;5;241m1\u001b[39m, p)))\n\u001b[1;32m    352\u001b[0m modular \u001b[38;5;241m=\u001b[39m [gf_to_int_poly(ff, p) \u001b[38;5;28;01mfor\u001b[39;00m ff \u001b[38;5;129;01min\u001b[39;00m fsqf]\n\u001b[0;32m--> 354\u001b[0m g \u001b[38;5;241m=\u001b[39m \u001b[43mdup_zz_hensel_lift\u001b[49m\u001b[43m(\u001b[49m\u001b[43mp\u001b[49m\u001b[43m,\u001b[49m\u001b[43m \u001b[49m\u001b[43mf\u001b[49m\u001b[43m,\u001b[49m\u001b[43m \u001b[49m\u001b[43mmodular\u001b[49m\u001b[43m,\u001b[49m\u001b[43m \u001b[49m\u001b[43ml\u001b[49m\u001b[43m,\u001b[49m\u001b[43m \u001b[49m\u001b[43mK\u001b[49m\u001b[43m)\u001b[49m\n\u001b[1;32m    356\u001b[0m sorted_T \u001b[38;5;241m=\u001b[39m \u001b[38;5;28mrange\u001b[39m(\u001b[38;5;28mlen\u001b[39m(g))\n\u001b[1;32m    357\u001b[0m T \u001b[38;5;241m=\u001b[39m \u001b[38;5;28mset\u001b[39m(sorted_T)\n",
      "File \u001b[0;32m/opt/homebrew/lib/python3.10/site-packages/sympy/polys/factortools.py:302\u001b[0m, in \u001b[0;36mdup_zz_hensel_lift\u001b[0;34m(p, f, f_list, l, K)\u001b[0m\n\u001b[1;32m    299\u001b[0m t \u001b[38;5;241m=\u001b[39m gf_to_int_poly(t, p)\n\u001b[1;32m    301\u001b[0m \u001b[38;5;28;01mfor\u001b[39;00m _ \u001b[38;5;129;01min\u001b[39;00m \u001b[38;5;28mrange\u001b[39m(\u001b[38;5;241m1\u001b[39m, d \u001b[38;5;241m+\u001b[39m \u001b[38;5;241m1\u001b[39m):\n\u001b[0;32m--> 302\u001b[0m     (g, h, s, t), m \u001b[38;5;241m=\u001b[39m \u001b[43mdup_zz_hensel_step\u001b[49m\u001b[43m(\u001b[49m\u001b[43mm\u001b[49m\u001b[43m,\u001b[49m\u001b[43m \u001b[49m\u001b[43mf\u001b[49m\u001b[43m,\u001b[49m\u001b[43m \u001b[49m\u001b[43mg\u001b[49m\u001b[43m,\u001b[49m\u001b[43m \u001b[49m\u001b[43mh\u001b[49m\u001b[43m,\u001b[49m\u001b[43m \u001b[49m\u001b[43ms\u001b[49m\u001b[43m,\u001b[49m\u001b[43m \u001b[49m\u001b[43mt\u001b[49m\u001b[43m,\u001b[49m\u001b[43m \u001b[49m\u001b[43mK\u001b[49m\u001b[43m)\u001b[49m, m\u001b[38;5;241m*\u001b[39m\u001b[38;5;241m*\u001b[39m\u001b[38;5;241m2\u001b[39m\n\u001b[1;32m    304\u001b[0m \u001b[38;5;28;01mreturn\u001b[39;00m dup_zz_hensel_lift(p, g, f_list[:k], l, K) \\\n\u001b[1;32m    305\u001b[0m     \u001b[38;5;241m+\u001b[39m dup_zz_hensel_lift(p, h, f_list[k:], l, K)\n",
      "File \u001b[0;32m/opt/homebrew/lib/python3.10/site-packages/sympy/polys/factortools.py:231\u001b[0m, in \u001b[0;36mdup_zz_hensel_step\u001b[0;34m(m, f, g, h, s, t, K)\u001b[0m\n\u001b[1;32m    228\u001b[0m q \u001b[38;5;241m=\u001b[39m dup_trunc(q, M, K)\n\u001b[1;32m    229\u001b[0m r \u001b[38;5;241m=\u001b[39m dup_trunc(r, M, K)\n\u001b[0;32m--> 231\u001b[0m u \u001b[38;5;241m=\u001b[39m dup_add(dup_mul(t, e, K), \u001b[43mdup_mul\u001b[49m\u001b[43m(\u001b[49m\u001b[43mq\u001b[49m\u001b[43m,\u001b[49m\u001b[43m \u001b[49m\u001b[43mg\u001b[49m\u001b[43m,\u001b[49m\u001b[43m \u001b[49m\u001b[43mK\u001b[49m\u001b[43m)\u001b[49m, K)\n\u001b[1;32m    232\u001b[0m G \u001b[38;5;241m=\u001b[39m dup_trunc(dup_add(g, u, K), M, K)\n\u001b[1;32m    233\u001b[0m H \u001b[38;5;241m=\u001b[39m dup_trunc(dup_add(h, r, K), M, K)\n",
      "File \u001b[0;32m/opt/homebrew/lib/python3.10/site-packages/sympy/polys/densearith.py:767\u001b[0m, in \u001b[0;36mdup_mul\u001b[0;34m(f, g, K)\u001b[0m\n\u001b[1;32m    764\u001b[0m     coeff \u001b[38;5;241m=\u001b[39m K\u001b[38;5;241m.\u001b[39mzero\n\u001b[1;32m    766\u001b[0m     \u001b[38;5;28;01mfor\u001b[39;00m j \u001b[38;5;129;01min\u001b[39;00m \u001b[38;5;28mrange\u001b[39m(\u001b[38;5;28mmax\u001b[39m(\u001b[38;5;241m0\u001b[39m, i \u001b[38;5;241m-\u001b[39m dg), \u001b[38;5;28mmin\u001b[39m(df, i) \u001b[38;5;241m+\u001b[39m \u001b[38;5;241m1\u001b[39m):\n\u001b[0;32m--> 767\u001b[0m         coeff \u001b[38;5;241m+\u001b[39m\u001b[38;5;241m=\u001b[39m f[j]\u001b[38;5;241m*\u001b[39mg[i \u001b[38;5;241m-\u001b[39m j]\n\u001b[1;32m    769\u001b[0m     h\u001b[38;5;241m.\u001b[39mappend(coeff)\n\u001b[1;32m    771\u001b[0m \u001b[38;5;28;01mreturn\u001b[39;00m dup_strip(h)\n",
      "\u001b[0;31mKeyboardInterrupt\u001b[0m: "
     ]
    }
   ],
   "source": [
    "# Initialize a list to store differences.\n",
    "trials_differences = []  # Store the differences for each trial for the current num_datapoints.\n",
    "\n",
    "saves = []\n",
    "\n",
    "while len(trials_differences) < 10:  # Perform n trials \n",
    "    \n",
    "    # Generate data with the specified number of datapoints and noise level.\n",
    "    data = data_gen(6, 10, 1, 1)\n",
    "    x_i = np.array(data['Data'].values)\n",
    "    t_i = np.array(data['Time'].values)\n",
    "    \n",
    "    # Calculate the Groebner basis.\n",
    "    B = groeb(x_i, t_i)\n",
    "    \n",
    "    # Find positive real roots.\n",
    "    positive_roots_b = roots_symbolic(B[1])\n",
    "        \n",
    "    # Determine (x0, alpha) pairs.\n",
    "    params = find_x0_alpha_pairs(B, positive_roots_b)\n",
    "\n",
    "    # Evaluate the Hessian to check for minima.\n",
    "    maxima_checks = evaluate_hessian_at_extremas(params, x_i, t_i)\n",
    "\n",
    "    # Count the number of minima.\n",
    "    num_minimas = sum(1 for _, is_minima in maxima_checks if is_minima)\n",
    "\n",
    "    # Compute the difference in loss if there are exactly 2 minima.\n",
    "    if num_minimas == 2:\n",
    "        differences = abs(sse(params[1], data) - sse(params[2], data))\n",
    "        trials_differences.append(float(differences))\n",
    "        print(trials_differences)\n",
    "        if differences < 0.1:\n",
    "            saves.append(data)\n",
    "            saves.append(differences)\n",
    "        elif differences > 80000:\n",
    "            saves.append(data)\n",
    "            saves.append(differences)\n",
    "            \n",
    "\n",
    "\n",
    "# If there were any trials with exactly 2 minima, calculate statistics.\n",
    "if trials_differences:\n",
    "    avg_diff = np.mean(trials_differences)\n",
    "    max_diff = np.max(trials_differences)\n",
    "    min_diff = np.min(trials_differences)\n",
    "    print(trials_differences)\n",
    "    std_dev_diff = np.std(trials_differences)\n",
    "    \n",
    "    difference_list.append({\n",
    "        'Mean_Difference': avg_diff,\n",
    "        'Max_Difference': max_diff,\n",
    "        'Min_Difference': min_diff,\n",
    "        'Std_Dev_Difference': std_dev_diff\n",
    "    })\n",
    "\n",
    "\n",
    "# Convert differences to a DataFrame for better visualization.\n",
    "differences_df = pd.DataFrame(difference_list)\n",
    "\n",
    "# Print the DataFrame to see the results.\n",
    "print(differences_df)\n"
   ]
  },
  {
   "cell_type": "code",
   "execution_count": null,
   "id": "03e74905-b6ed-49b0-bc2c-b809abe7deee",
   "metadata": {},
   "outputs": [],
   "source": []
  }
 ],
 "metadata": {
  "kernelspec": {
   "display_name": "Python 3 (ipykernel)",
   "language": "python",
   "name": "python3"
  },
  "language_info": {
   "codemirror_mode": {
    "name": "ipython",
    "version": 3
   },
   "file_extension": ".py",
   "mimetype": "text/x-python",
   "name": "python",
   "nbconvert_exporter": "python",
   "pygments_lexer": "ipython3",
   "version": "3.10.13"
  }
 },
 "nbformat": 4,
 "nbformat_minor": 5
}
