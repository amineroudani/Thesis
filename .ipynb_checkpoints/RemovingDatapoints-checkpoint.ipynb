{
 "cells": [
  {
   "cell_type": "code",
   "execution_count": 6,
   "id": "b5052314-4146-46c0-b3b0-204c64a42755",
   "metadata": {},
   "outputs": [],
   "source": [
    "from ThesisFunctions import *"
   ]
  },
  {
   "cell_type": "code",
   "execution_count": 9,
   "id": "eace9c37-5145-4048-81a0-24dfd277e527",
   "metadata": {},
   "outputs": [
    {
     "name": "stderr",
     "output_type": "stream",
     "text": [
      "\n",
      "KeyboardInterrupt\n",
      "\n"
     ]
    }
   ],
   "source": [
    "noise_level = 0\n",
    "num_datapoints_original = 8\n",
    "alpha = 1\n",
    "initial_cond = 1\n",
    "\n",
    "# Initialize a list to store the results\n",
    "results_list = []\n",
    "\n",
    "# Number of data points to remove\n",
    "num_remove = 3\n",
    "\n",
    "# New number of data points after removal\n",
    "num_datapoints_reduced = num_datapoints_original - num_remove\n",
    "\n",
    "trials_minimas = []  # Store the number of minima found in each trial for current num_datapoints\n",
    "\n",
    "for _ in range(100):  # Perform 10 trials to average out the effects of randomness\n",
    "    \n",
    "    # Generate original data with specified number of datapoints and noise level\n",
    "    # We place this inside the loop to get actually get randomness with the noise_level.\n",
    "    original_data = data_gen(num_datapoints_original, noise_level, initial_cond, alpha)\n",
    "    x_i_original = np.array(original_data['Data'].values)\n",
    "    t_i_original = np.array(original_data['Time'].values)\n",
    "    \n",
    "    # Randomly select indices to remove\n",
    "    remove_indices = np.random.choice(range(num_datapoints_original), num_remove, replace=False)\n",
    "    \n",
    "    # Create new arrays excluding the selected indices\n",
    "    t_i_reduced = np.delete(t_i_original, remove_indices)\n",
    "    x_i_reduced = np.delete(x_i_original, remove_indices)\n",
    "    data = pd.DataFrame({'Time': t_i_reduced, 'Data': x_i_reduced})\n",
    "    \n",
    "    # Perform the calculations with the reduced dataset as in your original loop\n",
    "    B = groeb(x_i_reduced, t_i_reduced)\n",
    "    #positive_roots_b = roots_symbolic(B[1])\n",
    "    positive_roots_b = []\n",
    "    params = find_x0_alpha_pairs(B, positive_roots_b)\n",
    "    maxima_checks = evaluate_hessian_at_extremas(params, x_i_reduced, t_i_reduced)\n",
    "    num_minimas = sum(1 for _, is_true in maxima_checks if is_true)\n",
    "    \n",
    "    if num_minimas == 0:\n",
    "        print(\"Testing out newton method\")\n",
    "        positive_roots_b = find_roots_alternative(B[1])\n",
    "        params = find_x0_alpha_pairs(B, positive_roots_b)\n",
    "        maxima_checks = evaluate_hessian_at_extremas(params, x_i_reduced, t_i_reduced)\n",
    "        num_minimas = sum(1 for _, is_true in maxima_checks if is_true)\n",
    "        \n",
    "        if num_minimas == 0: \n",
    "            print(\"No minima found, performing grid search.\")\n",
    "            for param in params:\n",
    "                best_params, is_edge = grid_search_around_extrema(param, data)\n",
    "                best_params2, is_edge2 = grid_search_around_extrema((0,0), data)\n",
    "                if not is_edge or not is_edge2:\n",
    "                    #print(f\"Found a minimum inside the grid at {best_params}.\")\n",
    "                    num_minimas = 1\n",
    "                else:\n",
    "                    pass\n",
    "                    print(f\"Minimum found at the edge for {param}, likely no minimum exists.\")\n",
    "                    # Handle the edge case, possibly by ignoring or taking special note\n",
    "                    #plot(data)\n",
    "\n",
    "    trials_minimas.append(num_minimas)\n",
    "\n",
    "# Calculate statistics for the trials\n",
    "max_minimas = np.max(trials_minimas)\n",
    "mean_minimas = np.mean(trials_minimas)\n",
    "std_minimas = np.std(trials_minimas)\n",
    "results_list.append((num_datapoints_reduced, mean_minimas, std_minimas, max_minimas))\n",
    "\n",
    "# Display results\n",
    "print(f'Number of Datapoints={num_datapoints_reduced}: Mean= {mean_minimas}, Std Dev = {std_minimas}, Max = {max_minimas}')\n",
    "\n"
   ]
  },
  {
   "cell_type": "code",
   "execution_count": null,
   "id": "3e189669-48b5-4262-befc-724e68fb07a4",
   "metadata": {},
   "outputs": [],
   "source": []
  }
 ],
 "metadata": {
  "kernelspec": {
   "display_name": "Python 3 (ipykernel)",
   "language": "python",
   "name": "python3"
  },
  "language_info": {
   "codemirror_mode": {
    "name": "ipython",
    "version": 3
   },
   "file_extension": ".py",
   "mimetype": "text/x-python",
   "name": "python",
   "nbconvert_exporter": "python",
   "pygments_lexer": "ipython3",
   "version": "3.10.13"
  }
 },
 "nbformat": 4,
 "nbformat_minor": 5
}
