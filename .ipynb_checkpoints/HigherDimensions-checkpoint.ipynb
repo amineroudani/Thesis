{
 "cells": [
  {
   "cell_type": "code",
   "execution_count": 3,
   "id": "a8a77e69-831d-42dd-8cff-56a496d86057",
   "metadata": {},
   "outputs": [],
   "source": [
    "from ThesisFunctions import *"
   ]
  },
  {
   "cell_type": "code",
   "execution_count": 5,
   "id": "9c84bae4-d2f4-405a-9adb-f6b00a9a736a",
   "metadata": {},
   "outputs": [
    {
     "ename": "SyntaxError",
     "evalue": "'(' was never closed (1381252445.py, line 31)",
     "output_type": "error",
     "traceback": [
      "\u001b[0;36m  Cell \u001b[0;32mIn[5], line 31\u001b[0;36m\u001b[0m\n\u001b[0;31m    x = A_1 * np.exp(alpha_1 * t) + A_2 * np.exp(alpha_2 * t\u001b[0m\n\u001b[0m                                                ^\u001b[0m\n\u001b[0;31mSyntaxError\u001b[0m\u001b[0;31m:\u001b[0m '(' was never closed\n"
     ]
    }
   ],
   "source": [
    "# Required libraries for mathematical operations, data manipulation, and plotting.\n",
    "import numpy as np\n",
    "import pandas as pd\n",
    "import sympy as sp\n",
    "import matplotlib.pyplot as plt\n",
    "from scipy.optimize import minimize\n",
    "import sympy.plotting as spp\n",
    "from sympy import symbols, diff, Poly, solve\n",
    "from mpl_toolkits.mplot3d import Axes3D\n",
    "\n",
    "def model_2D(t, A_1, alpha_1, A_2, alpha_2):\n",
    "    \"\"\"\n",
    "    \"\"\"\n",
    "    exp_input1 = float(alpha_1) * np.array(t, dtype=float)\n",
    "    exp_input2 = float(alpha_2) * np.array(t, dtype=float)\n",
    "    return A_1 * np.exp(exp_input1) + A_2 * np.exp(exp_input2)\n",
    "\n",
    "\n",
    "def sse_2D(params, data):\n",
    "    \"\"\"\n",
    "    \"\"\"\n",
    "    A_1, alpha_1, A_2, alpha_2 = params\n",
    "    predictions = model_2d(data['Time'], A_1, alpha_1, A_2, alpha_2)\n",
    "    return np.sum((data['Data'] - predictions) ** 2)\n",
    "\n",
    "\n",
    "def data_gen_2D(num_data_points=4, noise_level=0.1, A_1=1, alpha_1=1, A_2=1, alpha_2=1):\n",
    "    \"\"\"\n",
    "    \"\"\"\n",
    "    t = np.arange(num_data_points)\n",
    "    x = A_1 * np.exp(alpha_1 * t) + A_2 * np.exp(alpha_2 * t)_\n",
    "                                                 \n",
    "    noise = noise_level * x *  np.random.normal(0, 1, size=t.shape) * 0.1\n",
    "         \n",
    "    x_noisy = x + noise    \n",
    "\n",
    "    x_noisy_rational = np.array([min(sp.Rational(int(xn * 100), 100), 10000) for xn in x_noisy])\n",
    "    data = pd.DataFrame({'Time': t, 'Data': x_noisy_rational})\n",
    "    return data\n",
    "\n",
    "def groeb_2D(x_i, t_i):\n",
    "    \"\"\"\n",
    "    \"\"\"\n",
    "    A_1, b_1, A_2, b_2 = sp.symbols('A_1 b_1 A_2 b_2')\n",
    "    SSE_poly = sum([(x - (A_1 * b_1**t + A_2 * b_2**t)**2 for x, t in zip(x_i, t_i)])\n",
    "    partial_A_1 = sp.diff(SSE_poly, A_1)\n",
    "    partial_b_1 = sp.diff(SSE_poly, b_1)\n",
    "    partial_A_2 = sp.diff(SSE_poly, A_2)\n",
    "    partial_b_2 = sp.diff(SSE_poly, b_2)\n",
    "    \n",
    "    B = sp.groebner([partial_x0, partial_b], x0, b, order='lex')\n",
    "    \n",
    "    return B"
   ]
  },
  {
   "cell_type": "code",
   "execution_count": null,
   "id": "5795c12c-8e30-482c-89ed-af37c00f9022",
   "metadata": {},
   "outputs": [],
   "source": [
    "data = data_gen(6, 10, 1, 1)\n",
    "\n",
    "x_i = np.array(data['Data'].values)\n",
    "t_i = np.array(data['Time'].values)\n",
    "\n",
    "# Calculate the Groebner basis.\n",
    "B = groeb(x_i, t_i)\n",
    "\n",
    "# Find positive real roots.\n",
    "positive_roots_b = roots_symbolic(B[1])\n",
    "    \n",
    "# Determine (x0, alpha) pairs.\n",
    "params = find_x0_alpha_pairs(B, positive_roots_b)\n",
    "\n",
    "# Evaluate the Hessian to check for minima.\n",
    "maxima_checks = evaluate_hessian_at_extremas(params, x_i, t_i)\n",
    "\n",
    "# Count the number of minima.\n",
    "num_minimas = sum(1 for _, is_minima in maxima_checks if is_minima)"
   ]
  }
 ],
 "metadata": {
  "kernelspec": {
   "display_name": "Python 3 (ipykernel)",
   "language": "python",
   "name": "python3"
  },
  "language_info": {
   "codemirror_mode": {
    "name": "ipython",
    "version": 3
   },
   "file_extension": ".py",
   "mimetype": "text/x-python",
   "name": "python",
   "nbconvert_exporter": "python",
   "pygments_lexer": "ipython3",
   "version": "3.10.13"
  }
 },
 "nbformat": 4,
 "nbformat_minor": 5
}
