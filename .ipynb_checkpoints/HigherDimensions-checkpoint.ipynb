{
 "cells": [
  {
   "cell_type": "code",
   "execution_count": 6,
   "id": "a8a77e69-831d-42dd-8cff-56a496d86057",
   "metadata": {},
   "outputs": [],
   "source": [
    "from ThesisFunctions import *"
   ]
  },
  {
   "cell_type": "code",
   "execution_count": 7,
   "id": "9c84bae4-d2f4-405a-9adb-f6b00a9a736a",
   "metadata": {},
   "outputs": [],
   "source": [
    "# Required libraries for mathematical operations, data manipulation, and plotting.\n",
    "import numpy as np\n",
    "import pandas as pd\n",
    "import sympy as sp\n",
    "import matplotlib.pyplot as plt\n",
    "from scipy.optimize import minimize\n",
    "import sympy.plotting as spp\n",
    "from sympy import symbols, diff, Poly, solve\n",
    "from mpl_toolkits.mplot3d import Axes3D\n",
    "\n",
    "def model_2D(t, A_1, alpha_1, A_2, alpha_2):\n",
    "    \"\"\"\n",
    "    \"\"\"\n",
    "    exp_input1 = float(alpha_1) * np.array(t, dtype=float)\n",
    "    exp_input2 = float(alpha_2) * np.array(t, dtype=float)\n",
    "    return A_1 * np.exp(exp_input1) + A_2 * np.exp(exp_input2)\n",
    "\n",
    "\n",
    "def sse_2D(params, data):\n",
    "    \"\"\"\n",
    "    \"\"\"\n",
    "    A_1, alpha_1, A_2, alpha_2 = params\n",
    "    predictions = model_2d(data['Time'], A_1, alpha_1, A_2, alpha_2)\n",
    "    return np.sum((data['Data'] - predictions) ** 2)\n",
    "\n",
    "\n",
    "def data_gen_2D(num_data_points=4, noise_level=0.1, A_1=1, alpha_1=1, A_2=1, alpha_2=1):\n",
    "    \"\"\"\n",
    "    \"\"\"\n",
    "    t = np.arange(num_data_points)\n",
    "    x = A_1 * np.exp(alpha_1 * t) + A_2 * np.exp(alpha_2 * t)\n",
    "                                                 \n",
    "    noise = noise_level * x *  np.random.normal(0, 1, size=t.shape) * 0.1\n",
    "         \n",
    "    x_noisy = x + noise    \n",
    "\n",
    "    x_noisy_rational = np.array([min(sp.Rational(int(xn * 100), 100), 10000) for xn in x_noisy])\n",
    "    data = pd.DataFrame({'Time': t, 'Data': x_noisy_rational})\n",
    "    return data\n",
    "\n",
    "def groeb_2D(x_i, t_i):\n",
    "    \"\"\"\n",
    "    \"\"\"\n",
    "    A_1, b_1, A_2, b_2 = sp.symbols('A_1 b_1 A_2 b_2')\n",
    "    SSE_poly = sum([(x - (A_1 * b_1**t + A_2 * b_2**t))**2 for x, t in zip(x_i, t_i)])\n",
    "    print(SSE_poly)\n",
    "    partial_A_1 = sp.diff(SSE_poly, A_1)\n",
    "    partial_b_1 = sp.diff(SSE_poly, b_1)\n",
    "    partial_A_2 = sp.diff(SSE_poly, A_2)\n",
    "    partial_b_2 = sp.diff(SSE_poly, b_2)\n",
    "    \n",
    "    B = sp.groebner([partial_A_1, partial_b_1, partial_A_2, partial_b_2], A_1, b_1, A_2, b_2, order='lex')\n",
    "    \n",
    "    return B"
   ]
  },
  {
   "cell_type": "code",
   "execution_count": 8,
   "id": "5795c12c-8e30-482c-89ed-af37c00f9022",
   "metadata": {},
   "outputs": [
    {
     "data": {
      "text/plain": [
       "<matplotlib.collections.PathCollection at 0x1358d7340>"
      ]
     },
     "execution_count": 8,
     "metadata": {},
     "output_type": "execute_result"
    },
    {
     "data": {
      "image/png": "[encoded data removed]",
      "text/plain": [
       "<Figure size 640x480 with 1 Axes>"
      ]
     },
     "metadata": {},
     "output_type": "display_data"
    }
   ],
   "source": [
    "data = data_gen_2D(6, 0, 1, 1, 1, 1)\n",
    "\n",
    "x_i = np.array(data['Data'].values)\n",
    "t_i = np.array(data['Time'].values)\n",
    "plt.scatter(t_i, x_i)"
   ]
  },
  {
   "cell_type": "code",
   "execution_count": 9,
   "id": "0d66ae8c-44ab-4ad5-bad2-954d7032b95c",
   "metadata": {},
   "outputs": [
    {
     "name": "stdout",
     "output_type": "stream",
     "text": [
      "(-A_1 - A_2 + 2)**2 + (-A_1*b_1 - A_2*b_2 + 543/100)**2 + (-A_1*b_1**2 - A_2*b_2**2 + 1477/100)**2 + (-A_1*b_1**3 - A_2*b_2**3 + 4017/100)**2 + (-A_1*b_1**4 - A_2*b_2**4 + 10919/100)**2 + (-A_1*b_1**5 - A_2*b_2**5 + 14841/50)**2\n"
     ]
    }
   ],
   "source": [
    "A_1, b_1, A_2, b_2 = sp.symbols('A_1 b_1 A_2 b_2')\n",
    "SSE_poly = sum([(x - (A_1 * b_1**t + A_2 * b_2**t))**2 for x, t in zip(x_i, t_i)])\n",
    "print(SSE_poly)"
   ]
  },
  {
   "cell_type": "code",
   "execution_count": 10,
   "id": "752eb17e-ed61-4f2b-ba30-3ab2d5f48414",
   "metadata": {},
   "outputs": [],
   "source": [
    "solutions = [[1.9995018213071998, 9.670501221573813e-52, 2.718406429546815, 0.08414083486861897],\n",
    "            [2.000909509169935, -0.003996760161307073, 2.7180891281188666, 1.5544251754573302],\n",
    "            [-0.003996760161307073, 2.000909509169935, 1.5544251754573302, 2.7180891281188666],\n",
    "            [-5.679625008945916e-50, 1.9995018213071998, 0.08414083486861897, 2.718406429546815]]\n",
    "\n",
    "eval = evaluate_hessian_at_minimas_4x4(solutions, x_i, t_i)"
   ]
  },
  {
   "cell_type": "code",
   "execution_count": 11,
   "id": "70595a61-a88d-4eb1-b2f7-25a1e6077116",
   "metadata": {},
   "outputs": [
    {
     "data": {
      "text/plain": [
       "[([1.9995018213071998,\n",
       "   9.670501221573813e-52,\n",
       "   2.718406429546815,\n",
       "   0.08414083486861897],\n",
       "  False),\n",
       " ([2.000909509169935,\n",
       "   -0.003996760161307073,\n",
       "   2.7180891281188666,\n",
       "   1.5544251754573302],\n",
       "  False),\n",
       " ([-0.003996760161307073,\n",
       "   2.000909509169935,\n",
       "   1.5544251754573302,\n",
       "   2.7180891281188666],\n",
       "  False),\n",
       " ([-5.679625008945916e-50,\n",
       "   1.9995018213071998,\n",
       "   0.08414083486861897,\n",
       "   2.718406429546815],\n",
       "  False)]"
      ]
     },
     "execution_count": 11,
     "metadata": {},
     "output_type": "execute_result"
    }
   ],
   "source": [
    "eval"
   ]
  },
  {
   "cell_type": "code",
   "execution_count": null,
   "id": "75b7e877-aef5-42e8-a64e-026a48103f59",
   "metadata": {},
   "outputs": [],
   "source": []
  }
 ],
 "metadata": {
  "kernelspec": {
   "display_name": "Python 3 (ipykernel)",
   "language": "python",
   "name": "python3"
  },
  "language_info": {
   "codemirror_mode": {
    "name": "ipython",
    "version": 3
   },
   "file_extension": ".py",
   "mimetype": "text/x-python",
   "name": "python",
   "nbconvert_exporter": "python",
   "pygments_lexer": "ipython3",
   "version": "3.10.13"
  }
 },
 "nbformat": 4,
 "nbformat_minor": 5
}
