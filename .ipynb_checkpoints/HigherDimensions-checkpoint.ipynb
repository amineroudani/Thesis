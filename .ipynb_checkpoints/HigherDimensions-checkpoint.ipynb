{
 "cells": [
  {
   "cell_type": "code",
   "execution_count": 1,
   "id": "a8a77e69-831d-42dd-8cff-56a496d86057",
   "metadata": {},
   "outputs": [],
   "source": [
    "from ThesisFunctions import *"
   ]
  },
  {
   "cell_type": "code",
   "execution_count": 91,
   "id": "9c84bae4-d2f4-405a-9adb-f6b00a9a736a",
   "metadata": {},
   "outputs": [],
   "source": [
    "# Required libraries for mathematical operations, data manipulation, and plotting.\n",
    "import numpy as np\n",
    "import pandas as pd\n",
    "import sympy as sp\n",
    "import matplotlib.pyplot as plt\n",
    "from scipy.optimize import minimize\n",
    "import sympy.plotting as spp\n",
    "from sympy import symbols, diff, Poly, solve\n",
    "from mpl_toolkits.mplot3d import Axes3D\n",
    "from sympy import lambdify\n",
    "\n",
    "\n",
    "def model_2D(t, A_1, alpha_1, A_2, alpha_2):\n",
    "    \"\"\"\n",
    "    Calculates the sum of two exponentials at given times.\n",
    "    \n",
    "    Args:\n",
    "        t (array-like): The time points for the calculation.\n",
    "        A_1 (float): Amplitude of the first exponential term.\n",
    "        alpha_1 (float): Decay rate of the first exponential term.\n",
    "        A_2 (float): Amplitude of the second exponential term.\n",
    "        alpha_2 (float): Decay rate of the second exponential term.\n",
    "    \n",
    "    Returns:\n",
    "        np.array: The calculated sum of two exponential functions.\n",
    "    \"\"\"\n",
    "    exp_input1 = float(alpha_1) * np.array(t, dtype=float)\n",
    "    exp_input2 = float(alpha_2) * np.array(t, dtype=float)\n",
    "    return A_1 * np.exp(exp_input1) + A_2 * np.exp(exp_input2)\n",
    "\n",
    "\n",
    "def sse_2D(params, data):\n",
    "    \"\"\"\n",
    "    Computes the sum of squared errors between model predictions and actual data.\n",
    "    \n",
    "    Args:\n",
    "        params (tuple): A tuple of parameters (A_1, alpha_1, A_2, alpha_2) for the model.\n",
    "        data (pd.DataFrame): DataFrame containing 'Time' and 'Data' columns.\n",
    "    \n",
    "    Returns:\n",
    "        float: The calculated sum of squared errors.\n",
    "    \"\"\"\n",
    "    A_1, alpha_1, A_2, alpha_2 = params\n",
    "    predictions = model_2D(data['Time'], A_1, alpha_1, A_2, alpha_2)\n",
    "    return np.sum((data['Data'] - predictions) ** 2)\n",
    "\n",
    "\n",
    "def data_gen_2D(num_data_points=4, noise_level=0.1, A_1=1, alpha_1=1, A_2=1, alpha_2=1):\n",
    "    \"\"\"\n",
    "    Generates synthetic data based on the sum of two exponentials plus noise.\n",
    "    \n",
    "    Args:\n",
    "        num_data_points (int): Number of data points to generate.\n",
    "        noise_level (float): Standard deviation of Gaussian noise.\n",
    "        A_1 (float): Amplitude of the first exponential term.\n",
    "        alpha_1 (float): Decay rate of the first exponential term.\n",
    "        A_2 (float): Amplitude of the second exponential term.\n",
    "        alpha_2 (float): Decay rate of the second exponential term.\n",
    "    \n",
    "    Returns:\n",
    "        pd.DataFrame: DataFrame with columns 'Time' and 'Data' containing the generated data.\n",
    "    \"\"\"\n",
    "    t = np.arange(num_data_points)\n",
    "    x = A_1 * np.exp(alpha_1 * t) + A_2 * np.exp(alpha_2 * t)\n",
    "                                                 \n",
    "    noise = noise_level * x *  np.random.normal(0, 1, size=t.shape) \n",
    "         \n",
    "    x_noisy = x + noise    \n",
    "\n",
    "    x_noisy_rational = np.array([min(sp.Rational(int(xn * 100), 100), 10000000) for xn in x_noisy])\n",
    "    data = pd.DataFrame({'Time': t, 'Data': x_noisy_rational})\n",
    "    return data\n",
    "\n",
    "def groeb_2D(x_i, t_i):\n",
    "    \"\"\"\n",
    "    Computes the Groebner basis for the system of equations derived from partial derivatives of SSE.\n",
    "    \n",
    "    Args:\n",
    "        x_i (list): List of data points.\n",
    "        t_i (list): List of time points corresponding to the data points.\n",
    "    \n",
    "    Returns:\n",
    "        GroebnerBasis: The Groebner basis for the system, which simplifies solving the equations.\n",
    "    \"\"\"\n",
    "    A_1, b_1, A_2, b_2 = sp.symbols('A_1 b_1 A_2 b_2')\n",
    "    SSE_poly = sum([(x - (A_1 * b_1**t + A_2 * b_2**t))**2 for x, t in zip(x_i, t_i)])\n",
    "    print(SSE_poly)\n",
    "    partial_A_1 = sp.diff(SSE_poly, A_1)\n",
    "    partial_b_1 = sp.diff(SSE_poly, b_1)\n",
    "    partial_A_2 = sp.diff(SSE_poly, A_2)\n",
    "    partial_b_2 = sp.diff(SSE_poly, b_2)\n",
    "    \n",
    "    B = sp.groebner([partial_A_1, partial_b_1, partial_A_2, partial_b_2], A_1, b_1, A_2, b_2, order='lex')\n",
    "    \n",
    "    return B\n",
    "\n",
    "def evaluate_hessian_at_minimas_4x4(params, x_i, t_i):\n",
    "    \"\"\"\n",
    "    Evaluates the Hessian matrix at the estimated minimas to ascertain their true nature,\n",
    "    specifically determining if they are indeed minimas. This is achieved by constructing\n",
    "    and analyzing a 4x4 Hessian matrix based on the second derivatives of the SSE polynomial,\n",
    "    which is adjusted for a model involving combinations of parameters A_1, A_2, b_1, and b_2.\n",
    "\n",
    "    Parameters:\n",
    "    - params (list of tuples): Estimated parameter sets (A_1, A_2, b_1, b_2), each representing\n",
    "      a unique combination of model parameters under consideration.\n",
    "    - x_i (list): The observed data values.\n",
    "    - t_i (list): The corresponding time values for the observed data.\n",
    "\n",
    "    Returns:\n",
    "    - list of tuples: Each tuple contains a parameter set and a boolean indicating if it represents\n",
    "      a minimum, based on the positiveness of all eigenvalues of the Hessian matrix evaluated at those parameters.\n",
    "    \"\"\"\n",
    "    # Define your symbols\n",
    "    A_1, A_2, b_1, b_2 = sp.symbols('A_1 A_2 b_1 b_2')\n",
    "    SSE_poly = sum([(x - A_1 * b_1 ** t - A_2 * b_2 ** t )**2 for x, t in zip(x_i, t_i)])  # Adjust according to your model\n",
    "\n",
    "    # Compute the second derivatives to form the Hessian matrix\n",
    "    partials = [[A_1, A_2, b_1, b_2], [A_1, A_2, b_1, b_2]]\n",
    "    Hessian = sp.Matrix([[sp.diff(sp.diff(SSE_poly, i), j) for i in partials[0]] for j in partials[1]])\n",
    "    #print(Hessian)\n",
    "\n",
    "    Hessian_func = lambdify((A_1, A_2, b_1, b_2), Hessian, 'numpy')\n",
    "\n",
    "    \n",
    "    minima_results = []\n",
    "    for param in params:\n",
    "        # Substitute parameter values into Hessian\n",
    "        #Hessian_at_point = Hessian.subs({A_1: param[0], A_2: param[1], b_1: param[2], b_2: param[3]})\n",
    "        \n",
    "        # Convert Hessian to a numerical matrix for eigenvalue computation\n",
    "        #Hessian_num = np.array(Hessian_at_point).astype(np.float64)\n",
    "        \n",
    "        # Compute eigenvalues\n",
    "        #eigenvalues = np.linalg.eigvals(Hessian_num)\n",
    "\n",
    "        # Use the lambdified function to evaluate the Hessian matrix numerically at the parameter values\n",
    "        Hessian_at_point = Hessian_func(*param)\n",
    "        \n",
    "        # Compute eigenvalues\n",
    "        eigenvalues = np.linalg.eigvals(Hessian_at_point)\n",
    "        print(eigenvalues)\n",
    "        \n",
    "        # Check if all eigenvalues are positive\n",
    "        if all(val > 0 for val in eigenvalues):\n",
    "            minima_results.append((param, True))\n",
    "        else:\n",
    "            minima_results.append((param, False))\n",
    "\n",
    "    return minima_results"
   ]
  },
  {
   "cell_type": "code",
   "execution_count": 60,
   "id": "5795c12c-8e30-482c-89ed-af37c00f9022",
   "metadata": {},
   "outputs": [
    {
     "data": {
      "text/plain": [
       "<matplotlib.collections.PathCollection at 0x16aebba30>"
      ]
     },
     "execution_count": 60,
     "metadata": {},
     "output_type": "execute_result"
    },
    {
     "data": {
      "image/png": "[encoded data removed]",
      "text/plain": [
       "<Figure size 640x480 with 1 Axes>"
      ]
     },
     "metadata": {},
     "output_type": "display_data"
    }
   ],
   "source": [
    "data = data_gen_2D(6, 10, 1, 1, 1, 1)\n",
    "\n",
    "x_i = np.array(data['Data'].values)\n",
    "t_i = np.array(data['Time'].values)\n",
    "plt.scatter(t_i, x_i)"
   ]
  },
  {
   "cell_type": "code",
   "execution_count": 61,
   "id": "0d66ae8c-44ab-4ad5-bad2-954d7032b95c",
   "metadata": {},
   "outputs": [
    {
     "name": "stdout",
     "output_type": "stream",
     "text": [
      "(-A_1 - A_2 + 289/100)**2 + (-A_1*b_1 - A_2*b_2 + 123/50)**2 + (-A_1*b_1**2 - A_2*b_2**2 + 127/10)**2 + (-A_1*b_1**3 - A_2*b_2**3 - 62/5)**2 + (-A_1*b_1**4 - A_2*b_2**4 + 7799/50)**2 + (-A_1*b_1**5 - A_2*b_2**5 + 54387/100)**2\n"
     ]
    }
   ],
   "source": [
    "A_1, b_1, A_2, b_2 = sp.symbols('A_1 b_1 A_2 b_2')\n",
    "SSE_poly = sum([(x - (A_1 * b_1**t + A_2 * b_2**t))**2 for x, t in zip(x_i, t_i)])\n",
    "print(SSE_poly)"
   ]
  },
  {
   "cell_type": "code",
   "execution_count": 52,
   "id": "752eb17e-ed61-4f2b-ba30-3ab2d5f48414",
   "metadata": {},
   "outputs": [
    {
     "name": "stdout",
     "output_type": "stream",
     "text": [
      "[ 4.09612721e+13  3.27386095e+08  2.01434060e+00 -8.03028908e-05]\n",
      "[ 4.08744831e+13  7.10240927e+08  2.67779284e+06 -2.57930896e+06]\n",
      "[ 4.08744831e+13  7.10240927e+08 -2.57930896e+06  2.67779284e+06]\n",
      "[ 4.09612721e+13  3.27386095e+08  2.01434057e+00 -9.94804265e-05]\n"
     ]
    }
   ],
   "source": [
    "solutions = [[1.9995018213071998, 9.670501221573813e-52, 2.718406429546815, 0.08414083486861897],\n",
    "            [2.000909509169935, -0.003996760161307073, 2.7180891281188666, 1.5544251754573302],\n",
    "            [-0.003996760161307073, 2.000909509169935, 1.5544251754573302, 2.7180891281188666],\n",
    "            [-5.679625008945916e-50, 1.9995018213071998, 0.08414083486861897, 2.718406429546815]]\n",
    "\n",
    "eval = evaluate_hessian_at_minimas_4x4(solutions, x_i, t_i)"
   ]
  },
  {
   "cell_type": "code",
   "execution_count": 44,
   "id": "70595a61-a88d-4eb1-b2f7-25a1e6077116",
   "metadata": {},
   "outputs": [
    {
     "data": {
      "text/plain": [
       "[([1.9995018213071998,\n",
       "   9.670501221573813e-52,\n",
       "   2.718406429546815,\n",
       "   0.08414083486861897],\n",
       "  False),\n",
       " ([2.000909509169935,\n",
       "   -0.003996760161307073,\n",
       "   2.7180891281188666,\n",
       "   1.5544251754573302],\n",
       "  False),\n",
       " ([-0.003996760161307073,\n",
       "   2.000909509169935,\n",
       "   1.5544251754573302,\n",
       "   2.7180891281188666],\n",
       "  False),\n",
       " ([-5.679625008945916e-50,\n",
       "   1.9995018213071998,\n",
       "   0.08414083486861897,\n",
       "   2.718406429546815],\n",
       "  False)]"
      ]
     },
     "execution_count": 44,
     "metadata": {},
     "output_type": "execute_result"
    }
   ],
   "source": [
    "eval"
   ]
  },
  {
   "cell_type": "code",
   "execution_count": null,
   "id": "ba1dd9a6-4611-466d-af18-6b4b2084cd18",
   "metadata": {},
   "outputs": [],
   "source": []
  },
  {
   "cell_type": "code",
   "execution_count": null,
   "id": "0084813a-482d-4661-9c2c-67fb404d364d",
   "metadata": {},
   "outputs": [],
   "source": []
  },
  {
   "cell_type": "code",
   "execution_count": null,
   "id": "17bf0a0f-1eca-400e-885a-10062bc18bb5",
   "metadata": {},
   "outputs": [],
   "source": []
  },
  {
   "cell_type": "code",
   "execution_count": null,
   "id": "90717451-c84a-482c-9d1e-41fee8f9e887",
   "metadata": {},
   "outputs": [],
   "source": [
    "solutions_9 = Solution: [1.9999412387576216, -3.683403866095807e-50, 2.718291518967122, 0.009048866408291877]\n",
    "Solution: [-4.5800496072139865e-46, 1.9999412387576216, 0.009048866408291877, 2.718291518967122]\n",
    "Solution: [-0.0031971412701424927, 2.0000125174957404, 1.1836730766667922, 2.7182800658950907]\n",
    "Solution: [2.0000125174957404, -0.0031971412701424927, 2.7182800658950907, 1.1836730766667922] "
   ]
  },
  {
   "cell_type": "code",
   "execution_count": null,
   "id": "4b840d8c-f206-43c2-94bf-bb194e091a0d",
   "metadata": {},
   "outputs": [],
   "source": [
    "solutions_8 = Solution: [-0.003283745663122025, 1.9999902330549197, 1.1415272798786824, 2.718284060960978]\n",
    "Solution: [1.9999902330549197, -0.003283745663122025, 2.718284060960978, 1.1415272798786824]\n",
    "Solution: [1.9998645646697784, -5.449934291672368e-51, 2.7183071039852056, 0.021154825565212355]\n",
    "Solution: [3.286329556593869e-34, 1.9998645646697784, 0.021154825565212355, 2.7183071039852056]"
   ]
  },
  {
   "cell_type": "code",
   "execution_count": null,
   "id": "852eeb95-e906-44a1-b42e-18ee39b3f3d5",
   "metadata": {},
   "outputs": [],
   "source": [
    "solutions_7 = Solution: [-0.003270868639170967, 2.00010873388842, 1.2544070909848721, 2.718260037405]\n",
    "Solution: [1.9997492716379965, 2.8548642403301784e-38, 2.7183346609639636, 0.040058952926207626]\n",
    "Solution: [2.00010873388842, -0.003270868639170967, 2.718260037405, 1.2544070909848721]\n",
    "Solution: [-6.603706857728832e-36, 1.9997492716379965, 0.040058952926207626, 2.7183346609639636]"
   ]
  },
  {
   "cell_type": "code",
   "execution_count": null,
   "id": "17d1fd7b-81fe-4730-b1f6-93aba379cd4b",
   "metadata": {},
   "outputs": [],
   "source": [
    "solutions_6 = [2.00010873388842, -0.003270868639170967, 2.718260037405, 1.2544070909848721],\n",
    "Solution: [1.9997492716379965, 3.3435295249646144e-38, 2.7183346609639636, 0.040058952926207626]\n",
    "Solution: [-0.003270868639170967, 2.00010873388842, 1.2544070909848721, 2.718260037405]\n",
    "Solution: [-2.418852062633437e-49, 1.9997492716379965, 0.040058952926207626, 2.7183346609639636]"
   ]
  },
  {
   "cell_type": "code",
   "execution_count": 53,
   "id": "5e39805a-ea69-4f2f-a97f-5253decc2f1c",
   "metadata": {},
   "outputs": [],
   "source": [
    "solutions_5 = [\n",
    "                [1.9995018213071998, -9.23983112668591e-52, 2.718406429546815, 0.08414083486861897],\n",
    "               [1.2366108735154307e-36, 1.9995018213071998, 0.08414083486861897, 2.718406429546815],\n",
    "               [2.000909509169935, -0.003996760161307073, 2.7180891281188666, 1.5544251754573302],\n",
    "               [-0.003996760161307073, 2.000909509169935, 1.5544251754573302, 2.7180891281188666]\n",
    "              ]"
   ]
  },
  {
   "cell_type": "code",
   "execution_count": 54,
   "id": "90a11ad2-4430-477c-b068-492d95bb88b5",
   "metadata": {},
   "outputs": [],
   "source": [
    "solutions_4 = [[1.9990925083061657, -3.6297006103241793e-53, 2.7185573311414557, 0.1723791385773471],\n",
    "               [-3.5627284780257025e-39, 1.9990925083061657, 0.1723791385773471, 2.7185573311414557]]"
   ]
  },
  {
   "cell_type": "code",
   "execution_count": 55,
   "id": "662a2a9b-8792-4203-bdde-fe4cb114f4e1",
   "metadata": {},
   "outputs": [],
   "source": [
    "data = data_gen_2D(4, 0, 1, 1, 1, 1)\n",
    "\n",
    "x_i = np.array(data['Data'].values)\n",
    "t_i = np.array(data['Time'].values)"
   ]
  },
  {
   "cell_type": "code",
   "execution_count": 56,
   "id": "11c10883-59e4-49d7-aa08-5502a9992494",
   "metadata": {},
   "outputs": [
    {
     "name": "stdout",
     "output_type": "stream",
     "text": [
      "[ 5.09013018e+03  1.67426455e+01  1.63991810e+00 -7.79197360e-05]\n",
      "[ 5.09013018e+03  1.67426455e+01  1.63991810e+00 -7.79197360e-05]\n"
     ]
    }
   ],
   "source": [
    "eval = evaluate_hessian_at_minimas_4x4(solutions_4, x_i, t_i)"
   ]
  },
  {
   "cell_type": "code",
   "execution_count": 57,
   "id": "efe2df9d-105b-4041-9558-78ef53ae5f32",
   "metadata": {},
   "outputs": [
    {
     "data": {
      "text/plain": [
       "[([1.9990925083061657,\n",
       "   -3.6297006103241793e-53,\n",
       "   2.7185573311414557,\n",
       "   0.1723791385773471],\n",
       "  False),\n",
       " ([-3.5627284780257025e-39,\n",
       "   1.9990925083061657,\n",
       "   0.1723791385773471,\n",
       "   2.7185573311414557],\n",
       "  False)]"
      ]
     },
     "execution_count": 57,
     "metadata": {},
     "output_type": "execute_result"
    }
   ],
   "source": [
    "eval"
   ]
  },
  {
   "cell_type": "code",
   "execution_count": null,
   "id": "21503378-7c7e-4c80-b5b8-3aac0a366072",
   "metadata": {},
   "outputs": [],
   "source": []
  },
  {
   "cell_type": "code",
   "execution_count": null,
   "id": "5a04e05e-26fd-4d8f-a8f7-942a4c9f61b6",
   "metadata": {},
   "outputs": [],
   "source": []
  },
  {
   "cell_type": "code",
   "execution_count": 93,
   "id": "059ab841-e396-4771-a1af-adad91edd2f9",
   "metadata": {},
   "outputs": [
    {
     "name": "stdout",
     "output_type": "stream",
     "text": [
      "[\n",
      "(-A_1 - A_2 + 2)^2 + (-A_1*b_1 - A_2*b_2 + 543/100)^2 + (-A_1*b_1^2 - A_2*b_2^2 + 1477/100)^2 + (-A_1*b_1^3 - A_2*b_2^3 + 4017/100)^2 + (-A_1*b_1^4 - A_2*b_2^4 + 10919/100)^2 + (-A_1*b_1^5 - A_2*b_2^5 + 14841/50)^2, \n",
      " \n",
      "(-A_1 - A_2 + 2)^2 + (-A_1*b_1 - A_2*b_2 + 543/100)^2 + (-A_1*b_1^2 - A_2*b_2^2 + 1477/100)^2 + (-A_1*b_1^3 - A_2*b_2^3 + 4017/100)^2 + (-A_1*b_1^4 - A_2*b_2^4 + 10919/100)^2 + (-A_1*b_1^5 - A_2*b_2^5 + 14841/50)^2, \n",
      " \n",
      "(-A_1 - A_2 + 2)^2 + (-A_1*b_1 - A_2*b_2 + 543/100)^2 + (-A_1*b_1^2 - A_2*b_2^2 + 1477/100)^2 + (-A_1*b_1^3 - A_2*b_2^3 + 4017/100)^2 + (-A_1*b_1^4 - A_2*b_2^4 + 10919/100)^2 + (-A_1*b_1^5 - A_2*b_2^5 + 14841/50)^2, \n",
      " \n",
      "(-A_1 - A_2 + 2)^2 + (-A_1*b_1 - A_2*b_2 + 543/100)^2 + (-A_1*b_1^2 - A_2*b_2^2 + 1477/100)^2 + (-A_1*b_1^3 - A_2*b_2^3 + 4017/100)^2 + (-A_1*b_1^4 - A_2*b_2^4 + 10919/100)^2 + (-A_1*b_1^5 - A_2*b_2^5 + 14841/50)^2, \n",
      " \n",
      "(-A_1 - A_2 + 2)^2 + (-A_1*b_1 - A_2*b_2 + 543/100)^2 + (-A_1*b_1^2 - A_2*b_2^2 + 1477/100)^2 + (-A_1*b_1^3 - A_2*b_2^3 + 4017/100)^2 + (-A_1*b_1^4 - A_2*b_2^4 + 10919/100)^2 + (-A_1*b_1^5 - A_2*b_2^5 + 14841/50)^2, \n",
      " \n",
      "(-A_1 - A_2 + 2)^2 + (-A_1*b_1 - A_2*b_2 + 543/100)^2 + (-A_1*b_1^2 - A_2*b_2^2 + 1477/100)^2 + (-A_1*b_1^3 - A_2*b_2^3 + 4017/100)^2 + (-A_1*b_1^4 - A_2*b_2^4 + 10919/100)^2 + (-A_1*b_1^5 - A_2*b_2^5 + 14841/50)^2, \n",
      " \n",
      "(-A_1 - A_2 + 2)^2 + (-A_1*b_1 - A_2*b_2 + 543/100)^2 + (-A_1*b_1^2 - A_2*b_2^2 + 1477/100)^2 + (-A_1*b_1^3 - A_2*b_2^3 + 4017/100)^2 + (-A_1*b_1^4 - A_2*b_2^4 + 10919/100)^2 + (-A_1*b_1^5 - A_2*b_2^5 + 14841/50)^2, \n",
      " \n",
      "(-A_1 - A_2 + 2)^2 + (-A_1*b_1 - A_2*b_2 + 543/100)^2 + (-A_1*b_1^2 - A_2*b_2^2 + 1477/100)^2 + (-A_1*b_1^3 - A_2*b_2^3 + 4017/100)^2 + (-A_1*b_1^4 - A_2*b_2^4 + 10919/100)^2 + (-A_1*b_1^5 - A_2*b_2^5 + 14841/50)^2, \n",
      " \n",
      "(-A_1 - A_2 + 2)^2 + (-A_1*b_1 - A_2*b_2 + 543/100)^2 + (-A_1*b_1^2 - A_2*b_2^2 + 1477/100)^2 + (-A_1*b_1^3 - A_2*b_2^3 + 4017/100)^2 + (-A_1*b_1^4 - A_2*b_2^4 + 10919/100)^2 + (-A_1*b_1^5 - A_2*b_2^5 + 14841/50)^2, \n",
      " \n",
      "(-A_1 - A_2 + 2)^2 + (-A_1*b_1 - A_2*b_2 + 543/100)^2 + (-A_1*b_1^2 - A_2*b_2^2 + 1477/100)^2 + (-A_1*b_1^3 - A_2*b_2^3 + 4017/100)^2 + (-A_1*b_1^4 - A_2*b_2^4 + 10919/100)^2 + (-A_1*b_1^5 - A_2*b_2^5 + 14841/50)^2, \n",
      " \n",
      "]\n"
     ]
    }
   ],
   "source": [
    "noise_levels = [0, 0.1, 0.5, 1, 1.5, 3, 5, 10, 20, 30, 40, 70, 100, 200, 300, 400, 500]\n",
    "\n",
    "for level in noise_levels:\n",
    "    \n",
    "    print(\"[\") \n",
    "    for _ in range(10):\n",
    "        data = data_gen_2D(6, 0, 1, 1, 1, 1)\n",
    "        x_i = np.array(data['Data'].values)\n",
    "        t_i = np.array(data['Time'].values)\n",
    "        #plt.scatter(t_i, x_i)\n",
    "        A_1, b_1, A_2, b_2 = sp.symbols('A_1 b_1 A_2 b_2')\n",
    "        SSE_poly = sum([(x - (A_1 * b_1**t + A_2 * b_2**t))**2 for x, t in zip(x_i, t_i)])\n",
    "        SSE_poly_str = str(SSE_poly).replace('**', '^')\n",
    "    \n",
    "        print(SSE_poly_str + \", \")\n",
    "        print(\" \")\n",
    "    \n",
    "    print(\"]\")"
   ]
  },
  {
   "cell_type": "code",
   "execution_count": null,
   "id": "1b2476e2-c1d6-4608-9804-9400ce9ec215",
   "metadata": {},
   "outputs": [],
   "source": []
  }
 ],
 "metadata": {
  "kernelspec": {
   "display_name": "Python 3 (ipykernel)",
   "language": "python",
   "name": "python3"
  },
  "language_info": {
   "codemirror_mode": {
    "name": "ipython",
    "version": 3
   },
   "file_extension": ".py",
   "mimetype": "text/x-python",
   "name": "python",
   "nbconvert_exporter": "python",
   "pygments_lexer": "ipython3",
   "version": "3.10.13"
  }
 },
 "nbformat": 4,
 "nbformat_minor": 5
}
